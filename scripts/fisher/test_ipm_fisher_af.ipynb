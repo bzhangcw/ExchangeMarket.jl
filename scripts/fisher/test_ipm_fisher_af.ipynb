{
    "cells": [
        {
            "cell_type": "markdown",
            "metadata": {},
            "source": [
                "# Sample for a Fisher Market with UMP with homogeneous affine constraints\n",
                "\n",
                "- the current implementation is for concept proof only,\n",
                "  it is far from efficient and scalable to large-scale problems"
            ]
        },
        {
            "cell_type": "code",
            "execution_count": 1,
            "metadata": {},
            "outputs": [
                {
                    "name": "stderr",
                    "output_type": "stream",
                    "text": [
                        "\u001b[32m\u001b[1m  Activating\u001b[22m\u001b[39m project at `~/workspace/ExchangeMarket.jl/scripts`\n"
                    ]
                }
            ],
            "source": [
                "using Pkg\n",
                "Pkg.activate(\"../\")"
            ]
        },
        {
            "cell_type": "code",
            "execution_count": 2,
            "metadata": {},
            "outputs": [
                {
                    "data": {
                        "text/plain": [
                            ":pdf"
                        ]
                    },
                    "metadata": {},
                    "output_type": "display_data"
                }
            ],
            "source": [
                "using Revise\n",
                "using SparseArrays, LinearAlgebra\n",
                "using JuMP, MosekTools\n",
                "import MathOptInterface as MOI\n",
                "using Plots, LaTeXStrings, Printf, Random, GraphRecipes\n",
                "using CSV, DataFrames, Graphs, Distributions\n",
                "\n",
                "using ExchangeMarket\n",
                "\n",
                "include(\"../tools.jl\")\n",
                "include(\"../plots.jl\")\n",
                "include(\"setup.jl\")\n",
                "switch_to_pdf(;)\n"
            ]
        },
        {
            "cell_type": "markdown",
            "metadata": {},
            "source": [
                "## Random instance"
            ]
        },
        {
            "cell_type": "code",
            "execution_count": 39,
            "metadata": {},
            "outputs": [
                {
                    "data": {
                        "text/plain": [
                            "(sparse([2, 3, 4, 5, 6, 7, 8, 9, 10, 11  …  5, 6, 7, 8, 9, 10, 11, 12, 13, 14], [1, 1, 1, 1, 1, 1, 1, 1, 1, 1  …  15, 15, 15, 15, 15, 15, 15, 15, 15, 15], [1.0, 1.0, 1.0, 1.0, 1.0, 1.0, 1.0, 1.0, 1.0, 1.0  …  1.0, 1.0, 1.0, 1.0, 1.0, 1.0, 1.0, 1.0, 1.0, 1.0], 15, 15), Any[(1, 2), (1, 3), (1, 4), (1, 5), (1, 6), (1, 7), (1, 8), (1, 9), (1, 10), (1, 11)  …  (15, 5), (15, 6), (15, 7), (15, 8), (15, 9), (15, 10), (15, 11), (15, 12), (15, 13), (15, 14)], [0.6976256760456924, 0.5820079055668151, 0.9266416419470301, 0.16978311591900264, 0.11632148548362331, 0.6245787132525471, 0.5610200275764593, 0.48553433612344177, 0.398959587411735, 0.5958635553211585  …  0.908402551956242, 0.18011928817263578, 0.24307699400701388, 0.1777279398779763, 0.14461352871648214, 0.8262400208152666, 0.8782245422155183, 0.9737464834971311, 0.4113647049697803, 0.9815395722155631], [2.5495817537452328, 9.420843361226263, 5.413725912951675, 8.290346996390394, 2.141102167900297, 3.0881437550552375, 4.2494783437509, 1.417532920570562, 1.8377163324494203, 8.27133350502972  …  2.188832158853695, 2.051598124555819, 2.6434050269705684, 4.804569257843102, 3.551087757449938, 8.164185089528667, 2.696130724270448, 2.4627115457335176, 1.174685896877968, 2.4873244096285996], 15, 210)"
                        ]
                    },
                    "metadata": {},
                    "output_type": "display_data"
                }
            ],
            "source": [
                "function generate_random_graph(nᵥ)\n",
                "    # or create a small random graph\n",
                "    E = []\n",
                "    for i in 1:nᵥ\n",
                "        for j in 1:nᵥ\n",
                "            if i != j\n",
                "                push!(E, (i, j))\n",
                "            end\n",
                "        end\n",
                "    end\n",
                "    nₑ = length(E)\n",
                "    adj = sparse(first.(E), last.(E), ones(length(E)), nᵥ, nᵥ)\n",
                "    # assign capacities and random revenues\n",
                "    # the first element is for the output flow\n",
                "    c = rand(Float64, nₑ + 1)\n",
                "    r = rand(Uniform(1.0, 10.0), nₑ + 1)\n",
                "    return adj, E, c, r, nᵥ, nₑ\n",
                "end\n",
                "\n",
                "adj, E, c, r, nᵥ, nₑ = generate_random_graph(15)\n"
            ]
        },
        {
            "cell_type": "code",
            "execution_count": 40,
            "metadata": {},
            "outputs": [
                {
                    "name": "stdout",
                    "output_type": "stream",
                    "text": [
                        "FisherMarket initialization started...\n",
                        "FisherMarket cost matrix initialized in 0.0004107952117919922 seconds\n",
                        "FisherMarket initialized in 0.0004718303680419922 seconds\n"
                    ]
                },
                {
                    "data": {
                        "text/plain": [
                            "FisherMarket{Float64}(150, 210, [6.365987373e-314 2.6133912847e-314 … -0.002078294754056742 7.511857027e-314; 2.6133808145e-314 2.121995791e-314 … -0.0012998562306165695 0.0; … ; 2.6133816326e-314 2.613390078e-314 … 0.0 2.613505307e-314; 8.487983166e-314 2.121995791e-314 … 0.0 8.4879831644e-314], [0.0, 0.0, 0.0, 0.0, 0.0, 0.0, 0.0, 0.0, 0.0, 0.0  …  0.0, 0.0, 0.0, 0.0, 0.0, 0.0, 0.0, 0.0, 0.0, 0.0], [0.002019807643080559, 0.002400947230713352, 0.006268992962703984, 0.0005909799984515632, 0.00975635525834286, 0.01031344376522511, 0.011122301330159096, 4.4865351152652696e-5, 0.01000439591241609, 0.008402420778366617  …  0.006512125590101107, 0.0007405701349098392, 0.006783518858554462, 0.01219186835058268, 0.00015149077289232488, 0.0072295007956077835, 0.0029173507080273837, 0.007299964475887644, 0.004891303957205201, 0.012296905363855345], [1.0, 1.0, 1.0, 1.0, 1.0, 1.0, 1.0, 1.0, 1.0, 1.0  …  1.0, 1.0, 1.0, 1.0, 1.0, 1.0, 1.0, 1.0, 1.0, 1.0], [-0.0005523502457840609 -0.0005217349521311038 … -0.0006668266788907297 -0.0008507957816541757; -0.0006062962004358743 -0.0006306747767371552 … -0.0012492920655422892 -0.0007614656794347484; … ; -0.0006883601748331547 -0.0009596902375300365 … -0.0009193933954505672 -0.0011480125788876714; -0.0005359623316896202 -0.0013482335266207619 … -0.0009615242661829872 -0.0010888736656032491], ExchangeMarket.var\"#20#31\"(Core.Box([9.915203951631796 2.2564814590145787 … 5.5290317690998165 0.4076799159893485; 1.049026025987354 5.589680883964936 … 9.45297337149015 3.4475506279106174; … ; 3.14196325000506 6.046724558783757 … 0.0 8.287950201570785; 4.128958438913141 0.43483472941579615 … 0.872701057866212 4.6039398339520385])), ExchangeMarket.var\"#24#35\"{Float64}(0.4, Core.Box([9.915203951631796 2.2564814590145787 … 5.5290317690998165 0.4076799159893485; 1.049026025987354 5.589680883964936 … 9.45297337149015 3.4475506279106174; … ; 3.14196325000506 6.046724558783757 … 0.0 8.287950201570785; 4.128958438913141 0.43483472941579615 … 0.872701057866212 4.6039398339520385])), ExchangeMarket.var\"#25#36\"{Float64}(0.4, Core.Box([9.915203951631796 2.2564814590145787 … 5.5290317690998165 0.4076799159893485; 1.049026025987354 5.589680883964936 … 9.45297337149015 3.4475506279106174; … ; 3.14196325000506 6.046724558783757 … 0.0 8.287950201570785; 4.128958438913141 0.43483472941579615 … 0.872701057866212 4.6039398339520385])), [0.0, 0.0, 0.0, 0.0, 0.0, 0.0, 0.0, 0.0, 0.0, 0.0  …  0.0, 0.0, 0.0, 0.0, 0.0, 0.0, 0.0, 0.0, 0.0, 0.0], [-0.0011927204952841641 -0.0015668624005840944 … -0.0024741327359515818 -0.001710940217642053; -0.0017810746144766667 -0.0011649181726619956 … -0.0023659547896361555 -0.0015941279608323103; … ; -0.002098388087536195 -0.0013651152246933875 … -0.0021879693815559723 -0.0019360950968100603; -0.0016072279771966467 -0.0022662957598865653 … -0.0019161374818468019 -0.0015170372031367743], ExchangeMarket.var\"#27#38\"{Float64}(Core.Box([9.915203951631796 2.2564814590145787 … 5.5290317690998165 0.4076799159893485; 1.049026025987354 5.589680883964936 … 9.45297337149015 3.4475506279106174; … ; 3.14196325000506 6.046724558783757 … 0.0 8.287950201570785; 4.128958438913141 0.43483472941579615 … 0.872701057866212 4.6039398339520385]), 0.6666666666666667), ExchangeMarket.var\"#26#37\"{Float64}(0.6666666666666667), [0.0, 0.0, 0.0, 0.0, 0.0, 0.0, 0.0, 0.0, 0.0, 0.0  …  0.0, 0.0, 0.0, 0.0, 0.0, 0.0, 0.0, 0.0, 0.0, 0.0], [-0.001673664607795495 -0.0018223322336665944 … -0.0020325098367888197 -0.0012719465218220165; -0.0016129921848774416 -0.0019661092434739534 … -0.0021245429007521704 -0.0020437927136657988; … ; -0.0012083427806508591 -0.001437102963387784 … -0.0019208899393192236 -0.0014358114762669056; -0.0011276987445817065 -0.0013062324889635446 … -0.0012462424925806786 -0.0020339310017802033], [-0.001655528655566666 -0.003251624236411238 … -0.003751698253184141 -0.0022532400180395804; -0.002613981476671206 -0.0033693585638775365 … -0.0022152440747827073 -0.0016765773762852446; … ; -0.0033982102859772597 -0.0021460821431618132 … -0.001800864917514338 -0.0014488424841588158; -0.002482362321424594 -0.002300047171881684 … -0.0018548614969266066 -0.0017488268446648409], [9.915203951631796 2.2564814590145787 … 5.5290317690998165 0.4076799159893485; 1.049026025987354 5.589680883964936 … 9.45297337149015 3.4475506279106174; … ; 3.14196325000506 6.046724558783757 … 0.0 8.287950201570785; 4.128958438913141 0.43483472941579615 … 0.872701057866212 4.6039398339520385], [0.0, 0.0, 0.0, 0.0, 0.0, 0.0, 0.0, 0.0, 0.0, 0.0  …  0.0, 0.0, 0.0, 0.0, 0.0, 0.0, 0.0, 0.0, 0.0, 0.0], 0.4, 0.6666666666666667, \u001b[1m0×0 DataFrame\u001b[0m, LinearConstr[LinearConstr{Float64}(14, 210, sparse([1, 14, 2, 14, 3, 14, 4, 14, 5, 14  …  9, 13, 10, 13, 13, 14, 11, 13, 12, 13], [1, 1, 2, 2, 3, 3, 4, 4, 5, 5  …  206, 206, 207, 207, 208, 208, 209, 209, 210, 210], [-1.0, -1.0, -1.0, -1.0, -1.0, -1.0, -1.0, -1.0, -1.0, -1.0  …  -1.0, 1.0, -1.0, 1.0, 1.0, 1.0, -1.0, 1.0, -1.0, 1.0], 14, 210), [0.0, 0.0, 0.0, 0.0, 0.0, 0.0, 0.0, 0.0, 0.0, 0.0, 0.0, 0.0, 0.0, 0.0], [0.0, 0.0, 0.0, 0.0, 0.0, 0.0, 0.0, 0.0, 0.0, 0.0, 0.0, 0.0, 0.0, 0.0]), LinearConstr{Float64}(14, 210, sparse([1, 14, 2, 14, 3, 14, 4, 14, 5, 14  …  8, 13, 9, 13, 10, 13, 11, 13, 12, 13], [1, 1, 2, 2, 3, 3, 4, 4, 5, 5  …  206, 206, 207, 207, 208, 208, 209, 209, 210, 210], [-1.0, -1.0, -1.0, -1.0, -1.0, -1.0, -1.0, -1.0, -1.0, -1.0  …  -1.0, 1.0, -1.0, 1.0, -1.0, 1.0, -1.0, 1.0, -1.0, 1.0], 14, 210), [0.0, 0.0, 0.0, 0.0, 0.0, 0.0, 0.0, 0.0, 0.0, 0.0, 0.0, 0.0, 0.0, 0.0], [0.0, 0.0, 0.0, 0.0, 0.0, 0.0, 0.0, 0.0, 0.0, 0.0, 0.0, 0.0, 0.0, 0.0]), LinearConstr{Float64}(14, 210, sparse([1, 14, 2, 14, 3, 14, 4, 14, 5, 14  …  8, 13, 9, 13, 10, 13, 11, 13, 12, 13], [2, 2, 3, 3, 4, 4, 5, 5, 6, 6  …  206, 206, 207, 207, 208, 208, 209, 209, 210, 210], [-1.0, -1.0, -1.0, -1.0, -1.0, -1.0, -1.0, -1.0, -1.0, -1.0  …  -1.0, 1.0, -1.0, 1.0, -1.0, 1.0, -1.0, 1.0, -1.0, 1.0], 14, 210), [0.0, 0.0, 0.0, 0.0, 0.0, 0.0, 0.0, 0.0, 0.0, 0.0, 0.0, 0.0, 0.0, 0.0], [0.0, 0.0, 0.0, 0.0, 0.0, 0.0, 0.0, 0.0, 0.0, 0.0, 0.0, 0.0, 0.0, 0.0]), LinearConstr{Float64}(14, 210, sparse([1, 14, 2, 14, 3, 14, 4, 14, 5, 14  …  8, 13, 9, 13, 10, 13, 11, 13, 12, 13], [1, 1, 2, 2, 3, 3, 5, 5, 6, 6  …  206, 206, 207, 207, 208, 208, 209, 209, 210, 210], [-1.0, -1.0, -1.0, -1.0, -1.0, -1.0, -1.0, -1.0, -1.0, -1.0  …  -1.0, 1.0, -1.0, 1.0, -1.0, 1.0, -1.0, 1.0, -1.0, 1.0], 14, 210), [0.0, 0.0, 0.0, 0.0, 0.0, 0.0, 0.0, 0.0, 0.0, 0.0, 0.0, 0.0, 0.0, 0.0], [0.0, 0.0, 0.0, 0.0, 0.0, 0.0, 0.0, 0.0, 0.0, 0.0, 0.0, 0.0, 0.0, 0.0]), LinearConstr{Float64}(14, 210, sparse([1, 14, 2, 14, 3, 14, 4, 14, 5, 14  …  8, 13, 9, 13, 10, 13, 11, 13, 12, 13], [1, 1, 2, 2, 3, 3, 4, 4, 5, 5  …  206, 206, 207, 207, 208, 208, 209, 209, 210, 210], [-1.0, -1.0, -1.0, -1.0, -1.0, -1.0, -1.0, -1.0, -1.0, -1.0  …  -1.0, 1.0, -1.0, 1.0, -1.0, 1.0, -1.0, 1.0, -1.0, 1.0], 14, 210), [0.0, 0.0, 0.0, 0.0, 0.0, 0.0, 0.0, 0.0, 0.0, 0.0, 0.0, 0.0, 0.0, 0.0], [0.0, 0.0, 0.0, 0.0, 0.0, 0.0, 0.0, 0.0, 0.0, 0.0, 0.0, 0.0, 0.0, 0.0]), LinearConstr{Float64}(14, 210, sparse([1, 14, 2, 14, 3, 14, 4, 14, 5, 14  …  9, 13, 10, 13, 11, 13, 12, 13, 13, 14], [1, 1, 2, 2, 3, 3, 4, 4, 5, 5  …  206, 206, 207, 207, 208, 208, 209, 209, 210, 210], [-1.0, -1.0, -1.0, -1.0, -1.0, -1.0, -1.0, -1.0, -1.0, -1.0  …  -1.0, 1.0, -1.0, 1.0, -1.0, 1.0, -1.0, 1.0, 1.0, 1.0], 14, 210), [0.0, 0.0, 0.0, 0.0, 0.0, 0.0, 0.0, 0.0, 0.0, 0.0, 0.0, 0.0, 0.0, 0.0], [0.0, 0.0, 0.0, 0.0, 0.0, 0.0, 0.0, 0.0, 0.0, 0.0, 0.0, 0.0, 0.0, 0.0]), LinearConstr{Float64}(14, 210, sparse([1, 14, 2, 14, 3, 14, 4, 14, 5, 14  …  8, 13, 9, 13, 10, 13, 11, 13, 12, 13], [1, 1, 2, 2, 3, 3, 4, 4, 5, 5  …  206, 206, 207, 207, 208, 208, 209, 209, 210, 210], [-1.0, -1.0, -1.0, -1.0, -1.0, -1.0, -1.0, -1.0, -1.0, -1.0  …  -1.0, 1.0, -1.0, 1.0, -1.0, 1.0, -1.0, 1.0, -1.0, 1.0], 14, 210), [0.0, 0.0, 0.0, 0.0, 0.0, 0.0, 0.0, 0.0, 0.0, 0.0, 0.0, 0.0, 0.0, 0.0], [0.0, 0.0, 0.0, 0.0, 0.0, 0.0, 0.0, 0.0, 0.0, 0.0, 0.0, 0.0, 0.0, 0.0]), LinearConstr{Float64}(14, 210, sparse([1, 14, 2, 14, 3, 14, 4, 14, 5, 14  …  9, 13, 13, 14, 10, 13, 11, 13, 12, 13], [1, 1, 2, 2, 3, 3, 4, 4, 5, 5  …  206, 206, 207, 207, 208, 208, 209, 209, 210, 210], [-1.0, -1.0, -1.0, -1.0, -1.0, -1.0, -1.0, -1.0, -1.0, -1.0  …  -1.0, 1.0, 1.0, 1.0, -1.0, 1.0, -1.0, 1.0, -1.0, 1.0], 14, 210), [0.0, 0.0, 0.0, 0.0, 0.0, 0.0, 0.0, 0.0, 0.0, 0.0, 0.0, 0.0, 0.0, 0.0], [0.0, 0.0, 0.0, 0.0, 0.0, 0.0, 0.0, 0.0, 0.0, 0.0, 0.0, 0.0, 0.0, 0.0]), LinearConstr{Float64}(14, 210, sparse([1, 14, 2, 14, 3, 14, 4, 14, 5, 14  …  9, 14, 10, 14, 11, 14, 12, 14, 13, 14], [1, 1, 2, 2, 3, 3, 4, 4, 5, 5  …  206, 206, 207, 207, 208, 208, 209, 209, 210, 210], [-1.0, -1.0, -1.0, -1.0, -1.0, -1.0, -1.0, -1.0, -1.0, -1.0  …  -1.0, -1.0, -1.0, -1.0, -1.0, -1.0, -1.0, -1.0, -1.0, -1.0], 14, 210), [0.0, 0.0, 0.0, 0.0, 0.0, 0.0, 0.0, 0.0, 0.0, 0.0, 0.0, 0.0, 0.0, 0.0], [0.0, 0.0, 0.0, 0.0, 0.0, 0.0, 0.0, 0.0, 0.0, 0.0, 0.0, 0.0, 0.0, 0.0]), LinearConstr{Float64}(14, 210, sparse([1, 14, 2, 14, 3, 14, 4, 14, 5, 14  …  8, 13, 9, 13, 10, 13, 11, 13, 12, 13], [1, 1, 2, 2, 4, 4, 5, 5, 6, 6  …  206, 206, 207, 207, 208, 208, 209, 209, 210, 210], [-1.0, -1.0, -1.0, -1.0, -1.0, -1.0, -1.0, -1.0, -1.0, -1.0  …  -1.0, 1.0, -1.0, 1.0, -1.0, 1.0, -1.0, 1.0, -1.0, 1.0], 14, 210), [0.0, 0.0, 0.0, 0.0, 0.0, 0.0, 0.0, 0.0, 0.0, 0.0, 0.0, 0.0, 0.0, 0.0], [0.0, 0.0, 0.0, 0.0, 0.0, 0.0, 0.0, 0.0, 0.0, 0.0, 0.0, 0.0, 0.0, 0.0])  …  LinearConstr{Float64}(14, 210, sparse([1, 14, 2, 14, 3, 14, 4, 14, 5, 14  …  9, 13, 10, 13, 13, 14, 11, 13, 12, 13], [1, 1, 2, 2, 3, 3, 4, 4, 5, 5  …  206, 206, 207, 207, 208, 208, 209, 209, 210, 210], [-1.0, -1.0, -1.0, -1.0, -1.0, -1.0, -1.0, -1.0, -1.0, -1.0  …  -1.0, 1.0, -1.0, 1.0, 1.0, 1.0, -1.0, 1.0, -1.0, 1.0], 14, 210), [0.0, 0.0, 0.0, 0.0, 0.0, 0.0, 0.0, 0.0, 0.0, 0.0, 0.0, 0.0, 0.0, 0.0], [0.0, 0.0, 0.0, 0.0, 0.0, 0.0, 0.0, 0.0, 0.0, 0.0, 0.0, 0.0, 0.0, 0.0]), LinearConstr{Float64}(14, 210, sparse([1, 14, 2, 14, 3, 14, 4, 14, 5, 14  …  9, 13, 10, 13, 11, 13, 12, 13, 13, 14], [1, 1, 2, 2, 3, 3, 4, 4, 5, 5  …  206, 206, 207, 207, 208, 208, 209, 209, 210, 210], [-1.0, -1.0, -1.0, -1.0, -1.0, -1.0, -1.0, -1.0, -1.0, -1.0  …  -1.0, 1.0, -1.0, 1.0, -1.0, 1.0, -1.0, 1.0, 1.0, 1.0], 14, 210), [0.0, 0.0, 0.0, 0.0, 0.0, 0.0, 0.0, 0.0, 0.0, 0.0, 0.0, 0.0, 0.0, 0.0], [0.0, 0.0, 0.0, 0.0, 0.0, 0.0, 0.0, 0.0, 0.0, 0.0, 0.0, 0.0, 0.0, 0.0]), LinearConstr{Float64}(14, 210, sparse([1, 14, 2, 14, 3, 14, 4, 14, 5, 14  …  9, 13, 13, 14, 10, 13, 11, 13, 12, 13], [1, 1, 2, 2, 3, 3, 4, 4, 5, 5  …  206, 206, 207, 207, 208, 208, 209, 209, 210, 210], [-1.0, -1.0, -1.0, -1.0, -1.0, -1.0, -1.0, -1.0, -1.0, -1.0  …  -1.0, 1.0, 1.0, 1.0, -1.0, 1.0, -1.0, 1.0, -1.0, 1.0], 14, 210), [0.0, 0.0, 0.0, 0.0, 0.0, 0.0, 0.0, 0.0, 0.0, 0.0, 0.0, 0.0, 0.0, 0.0], [0.0, 0.0, 0.0, 0.0, 0.0, 0.0, 0.0, 0.0, 0.0, 0.0, 0.0, 0.0, 0.0, 0.0]), LinearConstr{Float64}(14, 210, sparse([1, 14, 2, 14, 3, 14, 4, 14, 5, 14  …  8, 13, 9, 13, 10, 13, 11, 13, 12, 13], [2, 2, 3, 3, 4, 4, 5, 5, 6, 6  …  206, 206, 207, 207, 208, 208, 209, 209, 210, 210], [-1.0, -1.0, -1.0, -1.0, -1.0, -1.0, -1.0, -1.0, -1.0, -1.0  …  -1.0, 1.0, -1.0, 1.0, -1.0, 1.0, -1.0, 1.0, -1.0, 1.0], 14, 210), [0.0, 0.0, 0.0, 0.0, 0.0, 0.0, 0.0, 0.0, 0.0, 0.0, 0.0, 0.0, 0.0, 0.0], [0.0, 0.0, 0.0, 0.0, 0.0, 0.0, 0.0, 0.0, 0.0, 0.0, 0.0, 0.0, 0.0, 0.0]), LinearConstr{Float64}(14, 210, sparse([1, 14, 2, 14, 3, 14, 4, 14, 5, 14  …  9, 13, 13, 14, 10, 13, 11, 13, 12, 13], [1, 1, 2, 2, 3, 3, 4, 4, 5, 5  …  206, 206, 207, 207, 208, 208, 209, 209, 210, 210], [-1.0, -1.0, -1.0, -1.0, -1.0, -1.0, -1.0, -1.0, -1.0, -1.0  …  -1.0, 1.0, 1.0, 1.0, -1.0, 1.0, -1.0, 1.0, -1.0, 1.0], 14, 210), [0.0, 0.0, 0.0, 0.0, 0.0, 0.0, 0.0, 0.0, 0.0, 0.0, 0.0, 0.0, 0.0, 0.0], [0.0, 0.0, 0.0, 0.0, 0.0, 0.0, 0.0, 0.0, 0.0, 0.0, 0.0, 0.0, 0.0, 0.0]), LinearConstr{Float64}(14, 210, sparse([1, 14, 2, 14, 3, 14, 4, 14, 5, 14  …  9, 13, 10, 13, 11, 13, 12, 13, 13, 14], [1, 1, 2, 2, 3, 3, 4, 4, 5, 5  …  206, 206, 207, 207, 208, 208, 209, 209, 210, 210], [-1.0, -1.0, -1.0, -1.0, -1.0, -1.0, -1.0, -1.0, -1.0, -1.0  …  -1.0, 1.0, -1.0, 1.0, -1.0, 1.0, -1.0, 1.0, 1.0, 1.0], 14, 210), [0.0, 0.0, 0.0, 0.0, 0.0, 0.0, 0.0, 0.0, 0.0, 0.0, 0.0, 0.0, 0.0, 0.0], [0.0, 0.0, 0.0, 0.0, 0.0, 0.0, 0.0, 0.0, 0.0, 0.0, 0.0, 0.0, 0.0, 0.0]), LinearConstr{Float64}(14, 210, sparse([1, 14, 2, 14, 3, 14, 4, 14, 5, 14  …  9, 13, 13, 14, 10, 13, 11, 13, 12, 13], [1, 1, 2, 2, 3, 3, 4, 4, 5, 5  …  206, 206, 207, 207, 208, 208, 209, 209, 210, 210], [-1.0, -1.0, -1.0, -1.0, -1.0, -1.0, -1.0, -1.0, -1.0, -1.0  …  -1.0, 1.0, 1.0, 1.0, -1.0, 1.0, -1.0, 1.0, -1.0, 1.0], 14, 210), [0.0, 0.0, 0.0, 0.0, 0.0, 0.0, 0.0, 0.0, 0.0, 0.0, 0.0, 0.0, 0.0, 0.0], [0.0, 0.0, 0.0, 0.0, 0.0, 0.0, 0.0, 0.0, 0.0, 0.0, 0.0, 0.0, 0.0, 0.0]), LinearConstr{Float64}(14, 210, sparse([1, 14, 2, 14, 3, 14, 4, 14, 5, 14  …  8, 13, 9, 13, 10, 13, 11, 13, 12, 13], [1, 1, 2, 2, 3, 3, 4, 4, 5, 5  …  206, 206, 207, 207, 208, 208, 209, 209, 210, 210], [-1.0, -1.0, -1.0, -1.0, -1.0, -1.0, -1.0, -1.0, -1.0, -1.0  …  -1.0, 1.0, -1.0, 1.0, -1.0, 1.0, -1.0, 1.0, -1.0, 1.0], 14, 210), [0.0, 0.0, 0.0, 0.0, 0.0, 0.0, 0.0, 0.0, 0.0, 0.0, 0.0, 0.0, 0.0, 0.0], [0.0, 0.0, 0.0, 0.0, 0.0, 0.0, 0.0, 0.0, 0.0, 0.0, 0.0, 0.0, 0.0, 0.0]), LinearConstr{Float64}(14, 210, sparse([1, 14, 2, 14, 3, 14, 4, 14, 5, 14  …  8, 13, 9, 13, 10, 13, 11, 13, 12, 13], [1, 1, 2, 2, 3, 3, 5, 5, 6, 6  …  206, 206, 207, 207, 208, 208, 209, 209, 210, 210], [-1.0, -1.0, -1.0, -1.0, -1.0, -1.0, -1.0, -1.0, -1.0, -1.0  …  -1.0, 1.0, -1.0, 1.0, -1.0, 1.0, -1.0, 1.0, -1.0, 1.0], 14, 210), [0.0, 0.0, 0.0, 0.0, 0.0, 0.0, 0.0, 0.0, 0.0, 0.0, 0.0, 0.0, 0.0, 0.0], [0.0, 0.0, 0.0, 0.0, 0.0, 0.0, 0.0, 0.0, 0.0, 0.0, 0.0, 0.0, 0.0, 0.0]), LinearConstr{Float64}(14, 210, sparse([1, 14, 2, 14, 3, 14, 4, 14, 5, 14  …  8, 13, 9, 13, 10, 13, 11, 13, 12, 13], [2, 2, 3, 3, 4, 4, 5, 5, 6, 6  …  206, 206, 207, 207, 208, 208, 209, 209, 210, 210], [-1.0, -1.0, -1.0, -1.0, -1.0, -1.0, -1.0, -1.0, -1.0, -1.0  …  -1.0, 1.0, -1.0, 1.0, -1.0, 1.0, -1.0, 1.0, -1.0, 1.0], 14, 210), [0.0, 0.0, 0.0, 0.0, 0.0, 0.0, 0.0, 0.0, 0.0, 0.0, 0.0, 0.0, 0.0, 0.0], [0.0, 0.0, 0.0, 0.0, 0.0, 0.0, 0.0, 0.0, 0.0, 0.0, 0.0, 0.0, 0.0, 0.0])], LinearConstr{Float64}(1, 210, [1.0 1.0 … 1.0 1.0], [1.0], [0.0]))"
                        ]
                    },
                    "metadata": {},
                    "output_type": "display_data"
                }
            ],
            "source": [
                "m = 150\n",
                "n = length(E)\n",
                "stpairs = [\n",
                "    zip(fill(1, m), rand(1:nᵥ, m))...\n",
                "]\n",
                "vec_const_x = []\n",
                "for (s, t) in stpairs\n",
                "    md, A, _... = ExchangeMarket.__query_Abc_standard(s, t, adj, E, nᵥ)\n",
                "    mₐ, nₐ = size(A)\n",
                "    push!(vec_const_x, LinearConstr(mₐ, nₐ, A, zeros(mₐ)))\n",
                "end\n",
                "ρ = 0.4\n",
                "constr_p = LinearConstr(1, n, ones(1, n), [1.0])\n",
                "\n",
                "f0 = FisherMarket(\n",
                "    m, n; ρ=ρ,\n",
                "    constr_x=vec_const_x, constr_p=constr_p,\n",
                "    bool_unit=true, bool_unit_wealth=true,\n",
                "    scale=10.0, sparsity=0.95\n",
                ")"
            ]
        },
        {
            "cell_type": "code",
            "execution_count": 41,
            "metadata": {},
            "outputs": [
                {
                    "data": {
                        "text/plain": [
                            "Dict{Symbol, Any} with 6 entries:\n",
                            "  :maxiter     => 20\n",
                            "  :tol         => 1.0e-10\n",
                            "  :optimizer   => ResponseOptimizer(__af_conic_log_response_ces, :linconicaffin…\n",
                            "  :option_mu   => :nothing\n",
                            "  :linsys      => :direct_affine\n",
                            "  :option_step => :affinesc"
                        ]
                    },
                    "metadata": {},
                    "output_type": "display_data"
                }
            ],
            "source": [
                "# define optimization arguments\n",
                "method = HessianBar\n",
                "kwargs = Dict(\n",
                "    :tol => 1e-10,\n",
                "    :maxiter => 20,\n",
                "    :optimizer => AFCESConic,\n",
                "    # :option_mu => :pred_corr,\n",
                "    :option_mu => :nothing,\n",
                "    :option_step => :affinesc,\n",
                "    # :option_step => :logbar,\n",
                "    :linsys => :direct_affine, # only support direct for now\n",
                ")"
            ]
        },
        {
            "cell_type": "code",
            "execution_count": 42,
            "metadata": {},
            "outputs": [
                {
                    "name": "stdout",
                    "output_type": "stream",
                    "text": [
                        "FisherMarket initialization started...\n",
                        "FisherMarket cost matrix initialized in 7.700920104980469e-5 seconds\n",
                        "FisherMarket initialized in 0.0001239776611328125 seconds\n",
                        "--------------------------------------------------------------------------------------------\n",
                        "                   ExchangeMarket.jl: A Julia Package for Exchange Market                   \n",
                        "                                    © Chuwen Zhang (2024)                                    \n",
                        "--------------------------------------------------------------------------------------------\n",
                        " subproblem solver alias       := AFCESConicResponse\n",
                        " subproblem solver style       := linconicaffine\n",
                        " lin-system solver alias       := direct_affine\n",
                        " option for gradient           := dual\n",
                        " option for step               := affinesc\n",
                        " option for μ                  := nothing\n",
                        "--------------------------------------------------------------------------------------------\n",
                        "running Phase I...\n",
                        "      k |  lg(μ) |             φ |    |∇φ| |    |Δp| |       t |      tₗ |       α |     kᵢ \n",
                        "      0 |  -5.00 | +1.381176e+01 | 5.8e+00 | 6.9e-02 | 0.0e+00 | 7.6e-04 | 1.0e+00 | 7.1e-01 \n",
                        "--------------------------------------------------------------------------------------------\n",
                        "running Phase II...\n",
                        "      k |  lg(μ) |             φ |    |∇φ| |    |Δp| |       t |      tₗ |       α |     kᵢ \n",
                        "      1 |  -5.00 | +1.377093e+01 | 3.9e-01 | 3.2e-03 | 7.0e+00 | 6.8e+00 | 1.0e+00 | 7.1e-01 \n"
                    ]
                },
                {
                    "name": "stderr",
                    "output_type": "stream",
                    "text": [
                        "┌ Info: use exact Hessian from affine-constrained UMP\n",
                        "└ @ ExchangeMarket /Users/brent/workspace/ExchangeMarket.jl/src/algorithms/diff.jl:318\n",
                        "┌ Warning: linear constraint is not supported for affine scaling\n",
                        "└ @ ExchangeMarket /Users/brent/workspace/ExchangeMarket.jl/src/algorithms/hessianbar.jl:218\n"
                    ]
                },
                {
                    "name": "stdout",
                    "output_type": "stream",
                    "text": [
                        "      2 |  -5.00 | +1.377065e+01 | 2.4e-02 | 5.9e-05 | 1.5e+01 | 1.4e+01 | 1.0e+00 | 7.1e-01 \n"
                    ]
                },
                {
                    "name": "stderr",
                    "output_type": "stream",
                    "text": [
                        "┌ Info: use exact Hessian from affine-constrained UMP\n",
                        "└ @ ExchangeMarket /Users/brent/workspace/ExchangeMarket.jl/src/algorithms/diff.jl:318\n",
                        "┌ Warning: linear constraint is not supported for affine scaling\n",
                        "└ @ ExchangeMarket /Users/brent/workspace/ExchangeMarket.jl/src/algorithms/hessianbar.jl:218\n"
                    ]
                },
                {
                    "name": "stdout",
                    "output_type": "stream",
                    "text": [
                        "      3 |  -5.00 | +1.377065e+01 | 3.1e-02 | 1.4e-06 | 2.2e+01 | 2.1e+01 | 1.0e+00 | 7.1e-01 \n"
                    ]
                },
                {
                    "name": "stderr",
                    "output_type": "stream",
                    "text": [
                        "┌ Info: use exact Hessian from affine-constrained UMP\n",
                        "└ @ ExchangeMarket /Users/brent/workspace/ExchangeMarket.jl/src/algorithms/diff.jl:318\n",
                        "┌ Warning: linear constraint is not supported for affine scaling\n",
                        "└ @ ExchangeMarket /Users/brent/workspace/ExchangeMarket.jl/src/algorithms/hessianbar.jl:218\n"
                    ]
                },
                {
                    "name": "stdout",
                    "output_type": "stream",
                    "text": [
                        "      4 |  -5.00 | +1.377065e+01 | 3.1e-02 | 3.8e-07 | 3.0e+01 | 2.9e+01 | 1.0e+00 | 7.1e-01 \n"
                    ]
                },
                {
                    "name": "stderr",
                    "output_type": "stream",
                    "text": [
                        "┌ Info: use exact Hessian from affine-constrained UMP\n",
                        "└ @ ExchangeMarket /Users/brent/workspace/ExchangeMarket.jl/src/algorithms/diff.jl:318\n",
                        "┌ Warning: linear constraint is not supported for affine scaling\n",
                        "└ @ ExchangeMarket /Users/brent/workspace/ExchangeMarket.jl/src/algorithms/hessianbar.jl:218\n",
                        "┌ Info: use exact Hessian from affine-constrained UMP\n",
                        "└ @ ExchangeMarket /Users/brent/workspace/ExchangeMarket.jl/src/algorithms/diff.jl:318\n",
                        "┌ Warning: linear constraint is not supported for affine scaling\n",
                        "└ @ ExchangeMarket /Users/brent/workspace/ExchangeMarket.jl/src/algorithms/hessianbar.jl:218\n"
                    ]
                },
                {
                    "name": "stdout",
                    "output_type": "stream",
                    "text": [
                        "      5 |  -5.00 | +1.377065e+01 | 3.1e-02 | 2.2e-07 | 3.7e+01 | 3.6e+01 | 1.0e+00 | 7.1e-01 \n",
                        "      6 |  -5.00 | +1.377065e+01 | 3.1e-02 | 3.0e-07 | 4.5e+01 | 4.3e+01 | 1.0e+00 | 7.1e-01 \n"
                    ]
                },
                {
                    "name": "stderr",
                    "output_type": "stream",
                    "text": [
                        "┌ Info: use exact Hessian from affine-constrained UMP\n",
                        "└ @ ExchangeMarket /Users/brent/workspace/ExchangeMarket.jl/src/algorithms/diff.jl:318\n",
                        "┌ Warning: linear constraint is not supported for affine scaling\n",
                        "└ @ ExchangeMarket /Users/brent/workspace/ExchangeMarket.jl/src/algorithms/hessianbar.jl:218\n"
                    ]
                },
                {
                    "name": "stdout",
                    "output_type": "stream",
                    "text": [
                        "      7 |  -5.00 | +1.377065e+01 | 3.1e-02 | 3.0e-07 | 5.2e+01 | 5.1e+01 | 1.0e+00 | 7.1e-01 \n"
                    ]
                },
                {
                    "name": "stderr",
                    "output_type": "stream",
                    "text": [
                        "┌ Info: use exact Hessian from affine-constrained UMP\n",
                        "└ @ ExchangeMarket /Users/brent/workspace/ExchangeMarket.jl/src/algorithms/diff.jl:318\n",
                        "┌ Warning: linear constraint is not supported for affine scaling\n",
                        "└ @ ExchangeMarket /Users/brent/workspace/ExchangeMarket.jl/src/algorithms/hessianbar.jl:218\n"
                    ]
                },
                {
                    "name": "stdout",
                    "output_type": "stream",
                    "text": [
                        "      8 |  -5.00 | +1.377065e+01 | 3.1e-02 | 2.0e-07 | 6.0e+01 | 5.8e+01 | 1.0e+00 | 7.1e-01 \n"
                    ]
                },
                {
                    "name": "stderr",
                    "output_type": "stream",
                    "text": [
                        "┌ Info: use exact Hessian from affine-constrained UMP\n",
                        "└ @ ExchangeMarket /Users/brent/workspace/ExchangeMarket.jl/src/algorithms/diff.jl:318\n",
                        "┌ Warning: linear constraint is not supported for affine scaling\n",
                        "└ @ ExchangeMarket /Users/brent/workspace/ExchangeMarket.jl/src/algorithms/hessianbar.jl:218\n"
                    ]
                },
                {
                    "name": "stdout",
                    "output_type": "stream",
                    "text": [
                        "      9 |  -5.00 | +1.377065e+01 | 3.1e-02 | 3.0e-07 | 6.8e+01 | 6.5e+01 | 1.0e+00 | 7.1e-01 \n"
                    ]
                },
                {
                    "name": "stderr",
                    "output_type": "stream",
                    "text": [
                        "┌ Info: use exact Hessian from affine-constrained UMP\n",
                        "└ @ ExchangeMarket /Users/brent/workspace/ExchangeMarket.jl/src/algorithms/diff.jl:318\n",
                        "┌ Warning: linear constraint is not supported for affine scaling\n",
                        "└ @ ExchangeMarket /Users/brent/workspace/ExchangeMarket.jl/src/algorithms/hessianbar.jl:218\n"
                    ]
                },
                {
                    "name": "stdout",
                    "output_type": "stream",
                    "text": [
                        "     10 |  -5.00 | +1.377065e+01 | 3.1e-02 | 3.7e-07 | 7.6e+01 | 7.3e+01 | 1.0e+00 | 7.1e-01 \n"
                    ]
                },
                {
                    "name": "stderr",
                    "output_type": "stream",
                    "text": [
                        "┌ Info: use exact Hessian from affine-constrained UMP\n",
                        "└ @ ExchangeMarket /Users/brent/workspace/ExchangeMarket.jl/src/algorithms/diff.jl:318\n",
                        "┌ Warning: linear constraint is not supported for affine scaling\n",
                        "└ @ ExchangeMarket /Users/brent/workspace/ExchangeMarket.jl/src/algorithms/hessianbar.jl:218\n"
                    ]
                },
                {
                    "name": "stdout",
                    "output_type": "stream",
                    "text": [
                        "     11 |  -5.00 | +1.377065e+01 | 3.1e-02 | 3.1e-07 | 8.4e+01 | 8.1e+01 | 1.0e+00 | 7.1e-01 \n"
                    ]
                },
                {
                    "name": "stderr",
                    "output_type": "stream",
                    "text": [
                        "┌ Info: use exact Hessian from affine-constrained UMP\n",
                        "└ @ ExchangeMarket /Users/brent/workspace/ExchangeMarket.jl/src/algorithms/diff.jl:318\n",
                        "┌ Warning: linear constraint is not supported for affine scaling\n",
                        "└ @ ExchangeMarket /Users/brent/workspace/ExchangeMarket.jl/src/algorithms/hessianbar.jl:218\n"
                    ]
                },
                {
                    "name": "stdout",
                    "output_type": "stream",
                    "text": [
                        "     12 |  -5.00 | +1.377065e+01 | 3.1e-02 | 2.2e-07 | 9.2e+01 | 8.9e+01 | 1.0e+00 | 7.1e-01 \n"
                    ]
                },
                {
                    "name": "stderr",
                    "output_type": "stream",
                    "text": [
                        "┌ Info: use exact Hessian from affine-constrained UMP\n",
                        "└ @ ExchangeMarket /Users/brent/workspace/ExchangeMarket.jl/src/algorithms/diff.jl:318\n",
                        "┌ Warning: linear constraint is not supported for affine scaling\n",
                        "└ @ ExchangeMarket /Users/brent/workspace/ExchangeMarket.jl/src/algorithms/hessianbar.jl:218\n"
                    ]
                },
                {
                    "name": "stdout",
                    "output_type": "stream",
                    "text": [
                        "     13 |  -5.00 | +1.377065e+01 | 3.1e-02 | 3.1e-07 | 1.0e+02 | 9.7e+01 | 1.0e+00 | 7.1e-01 \n"
                    ]
                },
                {
                    "name": "stderr",
                    "output_type": "stream",
                    "text": [
                        "┌ Info: use exact Hessian from affine-constrained UMP\n",
                        "└ @ ExchangeMarket /Users/brent/workspace/ExchangeMarket.jl/src/algorithms/diff.jl:318\n",
                        "┌ Warning: linear constraint is not supported for affine scaling\n",
                        "└ @ ExchangeMarket /Users/brent/workspace/ExchangeMarket.jl/src/algorithms/hessianbar.jl:218\n"
                    ]
                },
                {
                    "name": "stdout",
                    "output_type": "stream",
                    "text": [
                        "     14 |  -5.00 | +1.377065e+01 | 3.1e-02 | 4.7e-07 | 1.1e+02 | 1.0e+02 | 1.0e+00 | 7.1e-01 \n"
                    ]
                },
                {
                    "name": "stderr",
                    "output_type": "stream",
                    "text": [
                        "┌ Info: use exact Hessian from affine-constrained UMP\n",
                        "└ @ ExchangeMarket /Users/brent/workspace/ExchangeMarket.jl/src/algorithms/diff.jl:318\n",
                        "┌ Warning: linear constraint is not supported for affine scaling\n",
                        "└ @ ExchangeMarket /Users/brent/workspace/ExchangeMarket.jl/src/algorithms/hessianbar.jl:218\n"
                    ]
                },
                {
                    "name": "stdout",
                    "output_type": "stream",
                    "text": [
                        "     15 |  -5.00 | +1.377065e+01 | 3.1e-02 | 4.2e-07 | 1.2e+02 | 1.1e+02 | 1.0e+00 | 7.1e-01 \n"
                    ]
                },
                {
                    "name": "stderr",
                    "output_type": "stream",
                    "text": [
                        "┌ Info: use exact Hessian from affine-constrained UMP\n",
                        "└ @ ExchangeMarket /Users/brent/workspace/ExchangeMarket.jl/src/algorithms/diff.jl:318\n",
                        "┌ Warning: linear constraint is not supported for affine scaling\n",
                        "└ @ ExchangeMarket /Users/brent/workspace/ExchangeMarket.jl/src/algorithms/hessianbar.jl:218\n"
                    ]
                },
                {
                    "name": "stdout",
                    "output_type": "stream",
                    "text": [
                        "     16 |  -5.00 | +1.377065e+01 | 3.1e-02 | 3.6e-07 | 1.2e+02 | 1.2e+02 | 1.0e+00 | 7.1e-01 \n"
                    ]
                },
                {
                    "name": "stderr",
                    "output_type": "stream",
                    "text": [
                        "┌ Info: use exact Hessian from affine-constrained UMP\n",
                        "└ @ ExchangeMarket /Users/brent/workspace/ExchangeMarket.jl/src/algorithms/diff.jl:318\n",
                        "┌ Warning: linear constraint is not supported for affine scaling\n",
                        "└ @ ExchangeMarket /Users/brent/workspace/ExchangeMarket.jl/src/algorithms/hessianbar.jl:218\n"
                    ]
                },
                {
                    "name": "stdout",
                    "output_type": "stream",
                    "text": [
                        "     17 |  -5.00 | +1.377065e+01 | 3.1e-02 | 3.2e-07 | 1.3e+02 | 1.3e+02 | 1.0e+00 | 7.1e-01 \n"
                    ]
                },
                {
                    "name": "stderr",
                    "output_type": "stream",
                    "text": [
                        "┌ Info: use exact Hessian from affine-constrained UMP\n",
                        "└ @ ExchangeMarket /Users/brent/workspace/ExchangeMarket.jl/src/algorithms/diff.jl:318\n",
                        "┌ Warning: linear constraint is not supported for affine scaling\n",
                        "└ @ ExchangeMarket /Users/brent/workspace/ExchangeMarket.jl/src/algorithms/hessianbar.jl:218\n"
                    ]
                },
                {
                    "name": "stdout",
                    "output_type": "stream",
                    "text": [
                        "     18 |  -5.00 | +1.377065e+01 | 3.1e-02 | 3.5e-07 | 1.4e+02 | 1.3e+02 | 1.0e+00 | 7.1e-01 \n"
                    ]
                },
                {
                    "name": "stderr",
                    "output_type": "stream",
                    "text": [
                        "┌ Info: use exact Hessian from affine-constrained UMP\n",
                        "└ @ ExchangeMarket /Users/brent/workspace/ExchangeMarket.jl/src/algorithms/diff.jl:318\n",
                        "┌ Warning: linear constraint is not supported for affine scaling\n",
                        "└ @ ExchangeMarket /Users/brent/workspace/ExchangeMarket.jl/src/algorithms/hessianbar.jl:218\n"
                    ]
                },
                {
                    "name": "stdout",
                    "output_type": "stream",
                    "text": [
                        "     19 |  -5.00 | +1.377065e+01 | 3.1e-02 | 4.4e-07 | 1.5e+02 | 1.4e+02 | 1.0e+00 | 7.1e-01 \n"
                    ]
                },
                {
                    "name": "stderr",
                    "output_type": "stream",
                    "text": [
                        "┌ Info: use exact Hessian from affine-constrained UMP\n",
                        "└ @ ExchangeMarket /Users/brent/workspace/ExchangeMarket.jl/src/algorithms/diff.jl:318\n",
                        "┌ Warning: linear constraint is not supported for affine scaling\n",
                        "└ @ ExchangeMarket /Users/brent/workspace/ExchangeMarket.jl/src/algorithms/hessianbar.jl:218\n"
                    ]
                },
                {
                    "name": "stdout",
                    "output_type": "stream",
                    "text": [
                        "     20 |  -5.00 | +1.377065e+01 | 3.1e-02 | 3.2e-07 | 1.5e+02 | 1.5e+02 | 1.0e+00 | 7.1e-01 \n",
                        "      k |  lg(μ) |             φ |    |∇φ| |    |Δp| |       t |      tₗ |       α |     kᵢ \n"
                    ]
                },
                {
                    "name": "stderr",
                    "output_type": "stream",
                    "text": [
                        "┌ Info: use exact Hessian from affine-constrained UMP\n",
                        "└ @ ExchangeMarket /Users/brent/workspace/ExchangeMarket.jl/src/algorithms/diff.jl:318\n",
                        "┌ Warning: linear constraint is not supported for affine scaling\n",
                        "└ @ ExchangeMarket /Users/brent/workspace/ExchangeMarket.jl/src/algorithms/hessianbar.jl:218\n"
                    ]
                },
                {
                    "name": "stdout",
                    "output_type": "stream",
                    "text": [
                        "     21 |  -5.00 | +1.377065e+01 | 3.1e-02 | 4.0e-07 | 1.6e+02 | 1.6e+02 | 1.0e+00 | 7.1e-01 \n"
                    ]
                },
                {
                    "name": "stderr",
                    "output_type": "stream",
                    "text": [
                        "┌ Info: use exact Hessian from affine-constrained UMP\n",
                        "└ @ ExchangeMarket /Users/brent/workspace/ExchangeMarket.jl/src/algorithms/diff.jl:318\n",
                        "┌ Warning: linear constraint is not supported for affine scaling\n",
                        "└ @ ExchangeMarket /Users/brent/workspace/ExchangeMarket.jl/src/algorithms/hessianbar.jl:218\n"
                    ]
                },
                {
                    "name": "stdout",
                    "output_type": "stream",
                    "text": [
                        "     22 |  -5.00 | +1.377065e+01 | 3.1e-02 | 4.4e-07 | 1.7e+02 | 1.6e+02 | 1.0e+00 | 7.1e-01 \n"
                    ]
                },
                {
                    "name": "stderr",
                    "output_type": "stream",
                    "text": [
                        "┌ Info: use exact Hessian from affine-constrained UMP\n",
                        "└ @ ExchangeMarket /Users/brent/workspace/ExchangeMarket.jl/src/algorithms/diff.jl:318\n",
                        "┌ Warning: linear constraint is not supported for affine scaling\n",
                        "└ @ ExchangeMarket /Users/brent/workspace/ExchangeMarket.jl/src/algorithms/hessianbar.jl:218\n"
                    ]
                },
                {
                    "name": "stdout",
                    "output_type": "stream",
                    "text": [
                        "     23 |  -5.00 | +1.377065e+01 | 3.1e-02 | 2.3e-07 | 1.8e+02 | 1.7e+02 | 1.0e+00 | 7.1e-01 \n"
                    ]
                },
                {
                    "name": "stderr",
                    "output_type": "stream",
                    "text": [
                        "┌ Info: use exact Hessian from affine-constrained UMP\n",
                        "└ @ ExchangeMarket /Users/brent/workspace/ExchangeMarket.jl/src/algorithms/diff.jl:318\n",
                        "┌ Warning: linear constraint is not supported for affine scaling\n",
                        "└ @ ExchangeMarket /Users/brent/workspace/ExchangeMarket.jl/src/algorithms/hessianbar.jl:218\n"
                    ]
                },
                {
                    "name": "stdout",
                    "output_type": "stream",
                    "text": [
                        "     24 |  -5.00 | +1.377065e+01 | 3.1e-02 | 2.9e-07 | 1.8e+02 | 1.8e+02 | 1.0e+00 | 7.1e-01 \n"
                    ]
                },
                {
                    "name": "stderr",
                    "output_type": "stream",
                    "text": [
                        "┌ Info: use exact Hessian from affine-constrained UMP\n",
                        "└ @ ExchangeMarket /Users/brent/workspace/ExchangeMarket.jl/src/algorithms/diff.jl:318\n",
                        "┌ Warning: linear constraint is not supported for affine scaling\n",
                        "└ @ ExchangeMarket /Users/brent/workspace/ExchangeMarket.jl/src/algorithms/hessianbar.jl:218\n"
                    ]
                },
                {
                    "name": "stdout",
                    "output_type": "stream",
                    "text": [
                        "     25 |  -5.00 | +1.377065e+01 | 3.1e-02 | 3.2e-07 | 1.9e+02 | 1.9e+02 | 1.0e+00 | 7.1e-01 \n"
                    ]
                },
                {
                    "name": "stderr",
                    "output_type": "stream",
                    "text": [
                        "┌ Info: use exact Hessian from affine-constrained UMP\n",
                        "└ @ ExchangeMarket /Users/brent/workspace/ExchangeMarket.jl/src/algorithms/diff.jl:318\n",
                        "┌ Warning: linear constraint is not supported for affine scaling\n",
                        "└ @ ExchangeMarket /Users/brent/workspace/ExchangeMarket.jl/src/algorithms/hessianbar.jl:218\n"
                    ]
                },
                {
                    "name": "stdout",
                    "output_type": "stream",
                    "text": [
                        "     26 |  -5.00 | +1.377065e+01 | 3.1e-02 | 3.1e-07 | 2.0e+02 | 1.9e+02 | 1.0e+00 | 7.1e-01 \n"
                    ]
                },
                {
                    "name": "stderr",
                    "output_type": "stream",
                    "text": [
                        "┌ Info: use exact Hessian from affine-constrained UMP\n",
                        "└ @ ExchangeMarket /Users/brent/workspace/ExchangeMarket.jl/src/algorithms/diff.jl:318\n",
                        "┌ Warning: linear constraint is not supported for affine scaling\n",
                        "└ @ ExchangeMarket /Users/brent/workspace/ExchangeMarket.jl/src/algorithms/hessianbar.jl:218\n"
                    ]
                },
                {
                    "name": "stdout",
                    "output_type": "stream",
                    "text": [
                        "     27 |  -5.00 | +1.377065e+01 | 3.1e-02 | 2.3e-07 | 2.1e+02 | 2.0e+02 | 1.0e+00 | 7.1e-01 \n"
                    ]
                },
                {
                    "name": "stderr",
                    "output_type": "stream",
                    "text": [
                        "┌ Info: use exact Hessian from affine-constrained UMP\n",
                        "└ @ ExchangeMarket /Users/brent/workspace/ExchangeMarket.jl/src/algorithms/diff.jl:318\n",
                        "┌ Warning: linear constraint is not supported for affine scaling\n",
                        "└ @ ExchangeMarket /Users/brent/workspace/ExchangeMarket.jl/src/algorithms/hessianbar.jl:218\n"
                    ]
                },
                {
                    "name": "stdout",
                    "output_type": "stream",
                    "text": [
                        "     28 |  -5.00 | +1.377065e+01 | 3.1e-02 | 2.5e-07 | 2.2e+02 | 2.1e+02 | 1.0e+00 | 7.1e-01 \n"
                    ]
                },
                {
                    "name": "stderr",
                    "output_type": "stream",
                    "text": [
                        "┌ Info: use exact Hessian from affine-constrained UMP\n",
                        "└ @ ExchangeMarket /Users/brent/workspace/ExchangeMarket.jl/src/algorithms/diff.jl:318\n",
                        "┌ Warning: linear constraint is not supported for affine scaling\n",
                        "└ @ ExchangeMarket /Users/brent/workspace/ExchangeMarket.jl/src/algorithms/hessianbar.jl:218\n"
                    ]
                },
                {
                    "name": "stdout",
                    "output_type": "stream",
                    "text": [
                        "     29 |  -5.00 | +1.377065e+01 | 3.1e-02 | 1.8e-07 | 2.2e+02 | 2.2e+02 | 1.0e+00 | 7.1e-01 \n",
                        "--------------------------------------------------------------------------------------------\n",
                        " ✓  final play\n"
                    ]
                },
                {
                    "name": "stderr",
                    "output_type": "stream",
                    "text": [
                        "┌ Info: use exact Hessian from affine-constrained UMP\n",
                        "└ @ ExchangeMarket /Users/brent/workspace/ExchangeMarket.jl/src/algorithms/diff.jl:318\n",
                        "┌ Warning: linear constraint is not supported for affine scaling\n",
                        "└ @ ExchangeMarket /Users/brent/workspace/ExchangeMarket.jl/src/algorithms/hessianbar.jl:218\n"
                    ]
                },
                {
                    "name": "stdout",
                    "output_type": "stream",
                    "text": [
                        " ✓  finished in          30 steps\n",
                        "             in 2.24456e+02 seconds\n",
                        "  best-resp. in 2.17864e+02 seconds \n",
                        "            avg 7.26215e+00 seconds \n",
                        "          usage 97.06%\n",
                        "--------------------------------------------------------------------------------------------\n",
                        "------------------------------------------------------------\n",
                        " :problem size\n",
                        " :    number of agents: 150\n",
                        " :    number of goods: 210\n",
                        " :    avg number of nonzero entries in c: 0.9514\n",
                        " :equilibrium information\n",
                        " :method: HessianBar\n",
                        "------------------------------------------------------------\n",
                        "\u001b[1m10×2 DataFrame\u001b[0m\n",
                        "\u001b[1m Row \u001b[0m│\u001b[1m utility        \u001b[0m\u001b[1m left_budget  \u001b[0m\n",
                        "     │\u001b[90m Float64        \u001b[0m\u001b[90m Float64      \u001b[0m\n",
                        "─────┼──────────────────────────────\n",
                        "   1 │  80862.1         4.62148e-10\n",
                        "   2 │      1.06891e5   6.81713e-10\n",
                        "   3 │      3.00347e5   4.02235e-11\n",
                        "   4 │  30826.2         1.84157e-10\n",
                        "   5 │      4.39003e5   9.85523e-11\n",
                        "   6 │ 376075.0         2.12965e-10\n",
                        "   7 │      4.62274e5   5.36984e-10\n",
                        "   8 │   1861.11        1.27038e-10\n",
                        "   9 │      4.49553e5   1.40963e-10\n",
                        "  10 │      3.48269e5  -1.63295e-13\n",
                        "------------------------------------------------------------\n",
                        " :(normalized) market excess: [-2.5050e-03, -1.7526e-03]\n",
                        " :            social welfare:  1.27685517e+01\n",
                        "------------------------------------------------------------\n"
                    ]
                }
            ],
            "source": [
                "f1 = copy(f0)\n",
                "p₀ = ones(n) * sum(f1.w) ./ (n)\n",
                "if typeof(f1.c) <: SparseMatrixCSC\n",
                "    x₀ = similar(f1.c)\n",
                "    x₀.nzval .= 1.0\n",
                "else\n",
                "    x₀ = ones(n, m) ./ m\n",
                "end\n",
                "f1.x .= x₀\n",
                "f1.p .= p₀\n",
                "alg = method(\n",
                "    n, m, p₀;\n",
                "    linconstr=constr_p,\n",
                "    μ=1e-5,\n",
                "    kwargs...\n",
                ")\n",
                "traj = opt!(\n",
                "    alg, f1;\n",
                "    keep_traj=true,\n",
                "    maxiter=30,\n",
                "    maxtime=500.0,\n",
                "    loginterval=1,\n",
                "    tol=1e-12\n",
                ")\n",
                "validate(f1, alg)"
            ]
        },
        {
            "cell_type": "code",
            "execution_count": 37,
            "metadata": {},
            "outputs": [
                {
                    "data": {
                        "text/plain": [
                            "20×150 Matrix{Float64}:\n",
                            " 0.00893783    5.68985e-5   …  0.00160383  0.000918875  0.00084065\n",
                            " 0.000186242   1.64178e-8      0.00160383  0.000918875  0.00084065\n",
                            " 0.000191932   0.00213526      0.00160383  0.000918875  0.00084065\n",
                            " 4.77006e-6    3.10787e-6      0.00160383  0.000918875  0.00084065\n",
                            " 0.00494148    7.76815e-6      0.00160383  0.000918875  0.00084065\n",
                            " 0.0197525     0.00271779   …  0.00160383  0.000918875  0.00084065\n",
                            " 8.78681e-10   8.90989e-6      0.00160383  0.000918875  0.00084065\n",
                            " 0.00766202    0.00652043      0.00160383  0.000918875  0.00084065\n",
                            " 0.0111708     0.00051319      0.00160383  0.000918875  0.00084065\n",
                            " 0.00856893    0.00229138      0.00160383  0.000918875  0.00084065\n",
                            " 0.00044639    0.00039704   …  0.00160383  0.000918875  0.00084065\n",
                            " 2.38302e-6    0.000823166     0.00160383  0.000918875  0.00084065\n",
                            " 4.05288e-7    0.00107907      0.00160383  0.000918875  0.00084065\n",
                            " 0.000129946   0.000145046     0.00160383  0.000918875  0.00084065\n",
                            " 0.000249826   0.00130481      0.00160383  0.000918875  0.00084065\n",
                            " 0.00768961    1.22798e-5   …  0.00160383  0.000918875  0.00084065\n",
                            " 0.000637752   0.000595249     0.00160383  0.000918875  0.00084065\n",
                            " 0.0147192     0.00676157      0.00160383  0.000918875  0.00084065\n",
                            " 1.44436e-8    2.16181e-6      0.00160383  0.000918875  0.00084065\n",
                            " 1.77143e-6   -4.11225e-12     0.00160383  0.000918875  0.00084065"
                        ]
                    },
                    "metadata": {},
                    "output_type": "display_data"
                }
            ],
            "source": [
                "f1.x"
            ]
        },
        {
            "cell_type": "markdown",
            "metadata": {},
            "source": [
                "## Test flow conservation"
            ]
        },
        {
            "cell_type": "code",
            "execution_count": 42,
            "metadata": {},
            "outputs": [
                {
                    "name": "stderr",
                    "output_type": "stream",
                    "text": [
                        "┌ Info: flow conservation residual:\n",
                        "│   (_A * _f .|> abs) |> sum = 2.400012697259535e-12\n",
                        "└ @ Main /Users/brent/Documents/recherche/25-ipm-auction-fisher/ExchangeMarket.jl/scripts/fisher/jl_notebook_cell_df34fa98e69747e1a8f8a730347b8e2f_Y150sZmlsZQ==.jl:4\n",
                        "┌ Info: flow conservation residual:\n",
                        "│   (_A * _f .|> abs) |> sum = 1.580271265406996e-11\n",
                        "└ @ Main /Users/brent/Documents/recherche/25-ipm-auction-fisher/ExchangeMarket.jl/scripts/fisher/jl_notebook_cell_df34fa98e69747e1a8f8a730347b8e2f_Y150sZmlsZQ==.jl:4\n",
                        "┌ Info: flow conservation residual:\n",
                        "│   (_A * _f .|> abs) |> sum = 5.701275411531246e-9\n",
                        "└ @ Main /Users/brent/Documents/recherche/25-ipm-auction-fisher/ExchangeMarket.jl/scripts/fisher/jl_notebook_cell_df34fa98e69747e1a8f8a730347b8e2f_Y150sZmlsZQ==.jl:4\n",
                        "┌ Info: flow conservation residual:\n",
                        "│   (_A * _f .|> abs) |> sum = 4.786434322681998e-7\n",
                        "└ @ Main /Users/brent/Documents/recherche/25-ipm-auction-fisher/ExchangeMarket.jl/scripts/fisher/jl_notebook_cell_df34fa98e69747e1a8f8a730347b8e2f_Y150sZmlsZQ==.jl:4\n",
                        "┌ Info: flow conservation residual:\n",
                        "│   (_A * _f .|> abs) |> sum = 3.27317020275969e-10\n",
                        "└ @ Main /Users/brent/Documents/recherche/25-ipm-auction-fisher/ExchangeMarket.jl/scripts/fisher/jl_notebook_cell_df34fa98e69747e1a8f8a730347b8e2f_Y150sZmlsZQ==.jl:4\n",
                        "┌ Info: flow conservation residual:\n",
                        "│   (_A * _f .|> abs) |> sum = 1.6403568114193674e-7\n",
                        "└ @ Main /Users/brent/Documents/recherche/25-ipm-auction-fisher/ExchangeMarket.jl/scripts/fisher/jl_notebook_cell_df34fa98e69747e1a8f8a730347b8e2f_Y150sZmlsZQ==.jl:4\n",
                        "┌ Info: flow conservation residual:\n",
                        "│   (_A * _f .|> abs) |> sum = 4.730127595165001e-8\n",
                        "└ @ Main /Users/brent/Documents/recherche/25-ipm-auction-fisher/ExchangeMarket.jl/scripts/fisher/jl_notebook_cell_df34fa98e69747e1a8f8a730347b8e2f_Y150sZmlsZQ==.jl:4\n",
                        "┌ Info: flow conservation residual:\n",
                        "│   (_A * _f .|> abs) |> sum = 6.678425600893916e-12\n",
                        "└ @ Main /Users/brent/Documents/recherche/25-ipm-auction-fisher/ExchangeMarket.jl/scripts/fisher/jl_notebook_cell_df34fa98e69747e1a8f8a730347b8e2f_Y150sZmlsZQ==.jl:4\n",
                        "┌ Info: flow conservation residual:\n",
                        "│   (_A * _f .|> abs) |> sum = 1.8124931955851863e-7\n",
                        "└ @ Main /Users/brent/Documents/recherche/25-ipm-auction-fisher/ExchangeMarket.jl/scripts/fisher/jl_notebook_cell_df34fa98e69747e1a8f8a730347b8e2f_Y150sZmlsZQ==.jl:4\n",
                        "┌ Info: flow conservation residual:\n",
                        "│   (_A * _f .|> abs) |> sum = 1.6056461715763248e-12\n",
                        "└ @ Main /Users/brent/Documents/recherche/25-ipm-auction-fisher/ExchangeMarket.jl/scripts/fisher/jl_notebook_cell_df34fa98e69747e1a8f8a730347b8e2f_Y150sZmlsZQ==.jl:4\n"
                    ]
                }
            ],
            "source": [
                "for i in 1:m\n",
                "    _f = f1.x[:, i]\n",
                "    _A = f1.constr_x[i].A\n",
                "    @info \"flow conservation residual:\" _A * _f .|> abs |> sum\n",
                "end"
            ]
        }
    ],
    "metadata": {
        "kernelspec": {
            "display_name": "Julia 1.10.3",
            "language": "julia",
            "name": "julia-1.10"
        },
        "language_info": {
            "file_extension": ".jl",
            "mimetype": "application/julia",
            "name": "julia",
            "version": "1.10.3"
        }
    },
    "nbformat": 4,
    "nbformat_minor": 2
}
