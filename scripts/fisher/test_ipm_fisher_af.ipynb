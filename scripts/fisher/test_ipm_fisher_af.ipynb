{
    "cells": [
        {
            "cell_type": "markdown",
            "metadata": {},
            "source": [
                "# Sample for a Fisher Market with UMP with homogeneous affine constraints\n",
                "\n",
                "- the current implementation is for concept proof only,\n",
                "  it is far from efficient and scalable to large-scale problems"
            ]
        },
        {
            "cell_type": "code",
            "execution_count": 1,
            "metadata": {},
            "outputs": [
                {
                    "name": "stderr",
                    "output_type": "stream",
                    "text": [
                        "\u001b[32m\u001b[1m  Activating\u001b[22m\u001b[39m project at `~/workspace/ExchangeMarket.jl/scripts`\n"
                    ]
                }
            ],
            "source": [
                "using Pkg\n",
                "Pkg.activate(\"../\")"
            ]
        },
        {
            "cell_type": "code",
            "execution_count": 2,
            "metadata": {},
            "outputs": [
                {
                    "data": {
                        "text/plain": [
                            ":pdf"
                        ]
                    },
                    "metadata": {},
                    "output_type": "display_data"
                }
            ],
            "source": [
                "using Revise\n",
                "using SparseArrays, LinearAlgebra\n",
                "using JuMP, MosekTools\n",
                "import MathOptInterface as MOI\n",
                "using Plots, LaTeXStrings, Printf, Random, GraphRecipes\n",
                "using CSV, DataFrames, Graphs, Distributions\n",
                "\n",
                "using ExchangeMarket\n",
                "\n",
                "include(\"../tools.jl\")\n",
                "include(\"../plots.jl\")\n",
                "include(\"setup.jl\")\n",
                "switch_to_pdf(;)\n"
            ]
        },
        {
            "cell_type": "markdown",
            "metadata": {},
            "source": [
                "## Random instance"
            ]
        },
        {
            "cell_type": "code",
            "execution_count": 3,
            "metadata": {},
            "outputs": [
                {
                    "data": {
                        "text/plain": [
                            "(sparse([2, 3, 4, 1, 3, 4, 1, 2, 4, 1, 2, 3], [1, 1, 1, 2, 2, 2, 3, 3, 3, 4, 4, 4], [1.0, 1.0, 1.0, 1.0, 1.0, 1.0, 1.0, 1.0, 1.0, 1.0, 1.0, 1.0], 4, 4), Any[(1, 2), (1, 3), (1, 4), (2, 1), (2, 3), (2, 4), (3, 1), (3, 2), (3, 4), (4, 1), (4, 2), (4, 3)], [0.11098350530714718, 0.6312691049886633, 0.26277161031283547, 0.32462217548329697, 0.05486579908642786, 0.5422263484025841, 0.06349528364222179, 0.08248477470886806, 0.19345897472271611, 0.7181125526196892, 0.5791906015258148, 0.5620087312007507, 0.19272219626589837], [3.2535776025043184, 5.623716451005054, 9.35282507086276, 6.995462663837024, 2.363574128874775, 1.1756502314713158, 4.21802189053963, 5.180036365306834, 3.4074081121537687, 4.65656309912786, 3.202162020603367, 2.855187289658669, 4.612202738398566], 4, 12)"
                        ]
                    },
                    "metadata": {},
                    "output_type": "display_data"
                }
            ],
            "source": [
                "function generate_random_graph(nᵥ)\n",
                "    # or create a small random graph\n",
                "    E = []\n",
                "    for i in 1:nᵥ\n",
                "        for j in 1:nᵥ\n",
                "            if i != j\n",
                "                push!(E, (i, j))\n",
                "            end\n",
                "        end\n",
                "    end\n",
                "    nₑ = length(E)\n",
                "    adj = sparse(first.(E), last.(E), ones(length(E)), nᵥ, nᵥ)\n",
                "    # assign capacities and random revenues\n",
                "    # the first element is for the output flow\n",
                "    c = rand(Float64, nₑ + 1)\n",
                "    r = rand(Uniform(1.0, 10.0), nₑ + 1)\n",
                "    return adj, E, c, r, nᵥ, nₑ\n",
                "end\n",
                "\n",
                "adj, E, c, r, nᵥ, nₑ = generate_random_graph(4)\n"
            ]
        },
        {
            "cell_type": "code",
            "execution_count": 37,
            "metadata": {},
            "outputs": [
                {
                    "name": "stdout",
                    "output_type": "stream",
                    "text": [
                        "FisherMarket initialization started...\n",
                        "FisherMarket cost matrix initialized in 0.00011396408081054688 seconds\n",
                        "FisherMarket initialized in 0.000164031982421875 seconds\n"
                    ]
                },
                {
                    "data": {
                        "text/plain": [
                            "FisherMarket{Float64}(10, 12, [0.0 0.0 … 0.0 0.0; 0.0 0.0 … 0.0 0.0; … ; 0.0 0.0 … 0.0 0.0; 0.0 0.0 … 0.0 0.0], [0.0, 0.0, 0.0, 0.0, 0.0, 0.0, 0.0, 0.0, 0.0, 0.0, 0.0, 0.0], [0.006374582858360694, 0.047222993494899265, 0.1325479751695242, 0.1612630654900847, 0.16467359910596133, 0.07578967849136997, 0.13070238311665255, 0.005282973243341747, 0.15828207487109827, 0.11786067415870717], [1.0, 1.0, 1.0, 1.0, 1.0, 1.0, 1.0, 1.0, 1.0, 1.0, 1.0, 1.0], [0.0 0.0 … 0.0 0.0; 0.0 0.0 … 0.0 0.0; … ; 0.0 0.0 … 0.0 0.0; 0.0 0.0 … 0.0 0.0], ExchangeMarket.var\"#20#31\"(Core.Box([0.7580404886960546 23.888319995115484 … 6.476824583760228 0.8131698731973092; 1.5013522433103244 2.779064568908126 … 10.0 7.279222226351337; … ; 4.849539347158185 2.0847480287404316 … 4.235276066272745 3.9185635106781946; 0.5590087824933776 16.69182768597185 … 0.0 7.970326197841494])), ExchangeMarket.var\"#24#35\"{Float64}(0.5, Core.Box([0.7580404886960546 23.888319995115484 … 6.476824583760228 0.8131698731973092; 1.5013522433103244 2.779064568908126 … 10.0 7.279222226351337; … ; 4.849539347158185 2.0847480287404316 … 4.235276066272745 3.9185635106781946; 0.5590087824933776 16.69182768597185 … 0.0 7.970326197841494])), ExchangeMarket.var\"#25#36\"{Float64}(0.5, Core.Box([0.7580404886960546 23.888319995115484 … 6.476824583760228 0.8131698731973092; 1.5013522433103244 2.779064568908126 … 10.0 7.279222226351337; … ; 4.849539347158185 2.0847480287404316 … 4.235276066272745 3.9185635106781946; 0.5590087824933776 16.69182768597185 … 0.0 7.970326197841494])), [0.0, 0.0, 0.0, 0.0, 0.0, 0.0, 0.0, 0.0, 0.0, 0.0], [2.2202321123e-314 2.2202323653e-314 … 2.220227322e-314 2.220227717e-314; 2.220232128e-314 2.220232555e-314 … 2.2202273535e-314 2.220227733e-314; … ; 2.219787485e-314 2.2197875323e-314 … 2.219944416e-314 2.2202280808e-314; 2.1292649e-314 2.214834544e-314 … 2.2202277013e-314 2.2202280966e-314], ExchangeMarket.var\"#27#38\"{Float64}(Core.Box([0.7580404886960546 23.888319995115484 … 6.476824583760228 0.8131698731973092; 1.5013522433103244 2.779064568908126 … 10.0 7.279222226351337; … ; 4.849539347158185 2.0847480287404316 … 4.235276066272745 3.9185635106781946; 0.5590087824933776 16.69182768597185 … 0.0 7.970326197841494]), 1.0), ExchangeMarket.var\"#26#37\"{Float64}(Core.Box([0.7580404886960546 23.888319995115484 … 6.476824583760228 0.8131698731973092; 1.5013522433103244 2.779064568908126 … 10.0 7.279222226351337; … ; 4.849539347158185 2.0847480287404316 … 4.235276066272745 3.9185635106781946; 0.5590087824933776 16.69182768597185 … 0.0 7.970326197841494]), 1.0), [0.0, 0.0, 0.0, 0.0, 0.0, 0.0, 0.0, 0.0, 0.0, 0.0], [2.3888228994e-314 2.3888228994e-314 … 2.3888275555e-314 2.3888275555e-314; 2.388823263e-314 2.3888228994e-314 … 2.3888275555e-314 2.3888275555e-314; … ; 2.3888275555e-314 2.3888275555e-314 … 2.3888275555e-314 2.2051023835e-314; 2.388825247e-314 2.3888275555e-314 … 2.3888275555e-314 2.212775057e-314], [2.3537880563e-314 2.3537880563e-314 … 2.3537880563e-314 2.3537880563e-314; 2.3537880563e-314 2.3537880563e-314 … 2.3537880563e-314 2.3537880563e-314; … ; 2.3537880563e-314 2.3537880563e-314 … 2.3537880563e-314 2.3537880563e-314; 2.3537880563e-314 2.3537880563e-314 … 2.3537880563e-314 2.3537880563e-314], [0.7580404886960546 23.888319995115484 … 6.476824583760228 0.8131698731973092; 1.5013522433103244 2.779064568908126 … 10.0 7.279222226351337; … ; 4.849539347158185 2.0847480287404316 … 4.235276066272745 3.9185635106781946; 0.5590087824933776 16.69182768597185 … 0.0 7.970326197841494], [0.0, 0.0, 0.0, 0.0, 0.0, 0.0, 0.0, 0.0, 0.0, 0.0, 0.0, 0.0], 0.5, 1.0, \u001b[1m0×0 DataFrame\u001b[0m, LinearConstr[LinearConstr{Float64}(3, 12, sparse([1, 3, 2, 3, 1, 3, 1, 3, 1, 2, 1, 3, 2, 3, 2, 3, 1, 2, 2, 3], [1, 1, 3, 3, 4, 4, 5, 5, 6, 6, 8, 8, 9, 9, 10, 10, 11, 11, 12, 12], [-1.0, -1.0, -1.0, -1.0, 1.0, 1.0, 1.0, 1.0, 1.0, -1.0, -1.0, -1.0, -1.0, -1.0, 1.0, 1.0, -1.0, 1.0, 1.0, 1.0], 3, 12), [0.0, 0.0, 0.0], [0.0, 0.0, 0.0]), LinearConstr{Float64}(3, 12, sparse([1, 3, 2, 3, 1, 3, 1, 2, 1, 3, 2, 3, 1, 2, 2, 3, 1, 3, 2, 3], [1, 1, 2, 2, 4, 4, 5, 5, 6, 6, 7, 7, 8, 8, 9, 9, 11, 11, 12, 12], [-1.0, -1.0, -1.0, -1.0, 1.0, 1.0, 1.0, -1.0, 1.0, 1.0, 1.0, 1.0, -1.0, 1.0, 1.0, 1.0, -1.0, -1.0, -1.0, -1.0], 3, 12), [0.0, 0.0, 0.0], [0.0, 0.0, 0.0]), LinearConstr{Float64}(4, 12, sparse([1, 4, 2, 4, 3, 4, 1, 4, 1, 2  …  1, 2, 2, 3, 3, 4, 1, 3, 2, 3], [1, 1, 2, 2, 3, 3, 4, 4, 5, 5  …  8, 8, 9, 9, 10, 10, 11, 11, 12, 12], [-1.0, -2.0, -1.0, -2.0, -1.0, -2.0, 1.0, 2.0, 1.0, -1.0  …  -1.0, 1.0, 1.0, -1.0, 1.0, 2.0, -1.0, 1.0, -1.0, 1.0], 4, 12), [0.0, 0.0, 0.0, 0.0], [0.0, 0.0, 0.0, 0.0]), LinearConstr{Float64}(3, 12, sparse([1, 3, 2, 3, 1, 3, 2, 3, 1, 3, 1, 3, 1, 2, 2, 3, 2, 3, 1, 2], [2, 2, 3, 3, 5, 5, 6, 6, 7, 7, 8, 8, 9, 9, 10, 10, 11, 11, 12, 12], [-1.0, -1.0, -1.0, -1.0, -1.0, -1.0, -1.0, -1.0, 1.0, 1.0, 1.0, 1.0, 1.0, -1.0, 1.0, 1.0, 1.0, 1.0, -1.0, 1.0], 3, 12), [0.0, 0.0, 0.0], [0.0, 0.0, 0.0]), LinearConstr{Float64}(3, 12, sparse([1, 3, 2, 3, 1, 3, 2, 3, 1, 3, 1, 3, 1, 2, 2, 3, 2, 3, 1, 2], [2, 2, 3, 3, 5, 5, 6, 6, 7, 7, 8, 8, 9, 9, 10, 10, 11, 11, 12, 12], [-1.0, -1.0, -1.0, -1.0, -1.0, -1.0, -1.0, -1.0, 1.0, 1.0, 1.0, 1.0, 1.0, -1.0, 1.0, 1.0, 1.0, 1.0, -1.0, 1.0], 3, 12), [0.0, 0.0, 0.0], [0.0, 0.0, 0.0]), LinearConstr{Float64}(4, 12, sparse([1, 4, 2, 4, 3, 4, 1, 4, 1, 2  …  1, 2, 2, 3, 3, 4, 1, 3, 2, 3], [1, 1, 2, 2, 3, 3, 4, 4, 5, 5  …  8, 8, 9, 9, 10, 10, 11, 11, 12, 12], [-1.0, -2.0, -1.0, -2.0, -1.0, -2.0, 1.0, 2.0, 1.0, -1.0  …  -1.0, 1.0, 1.0, -1.0, 1.0, 2.0, -1.0, 1.0, -1.0, 1.0], 4, 12), [0.0, 0.0, 0.0, 0.0], [0.0, 0.0, 0.0, 0.0]), LinearConstr{Float64}(3, 12, sparse([1, 3, 2, 3, 1, 3, 2, 3, 1, 3, 1, 3, 1, 2, 2, 3, 2, 3, 1, 2], [2, 2, 3, 3, 5, 5, 6, 6, 7, 7, 8, 8, 9, 9, 10, 10, 11, 11, 12, 12], [-1.0, -1.0, -1.0, -1.0, -1.0, -1.0, -1.0, -1.0, 1.0, 1.0, 1.0, 1.0, 1.0, -1.0, 1.0, 1.0, 1.0, 1.0, -1.0, 1.0], 3, 12), [0.0, 0.0, 0.0], [0.0, 0.0, 0.0]), LinearConstr{Float64}(3, 12, sparse([1, 3, 2, 3, 1, 3, 1, 2, 1, 3, 2, 3, 1, 2, 2, 3, 1, 3, 2, 3], [1, 1, 2, 2, 4, 4, 5, 5, 6, 6, 7, 7, 8, 8, 9, 9, 11, 11, 12, 12], [-1.0, -1.0, -1.0, -1.0, 1.0, 1.0, 1.0, -1.0, 1.0, 1.0, 1.0, 1.0, -1.0, 1.0, 1.0, 1.0, -1.0, -1.0, -1.0, -1.0], 3, 12), [0.0, 0.0, 0.0], [0.0, 0.0, 0.0]), LinearConstr{Float64}(3, 12, sparse([1, 3, 2, 3, 1, 3, 1, 3, 1, 2, 1, 3, 2, 3, 2, 3, 1, 2, 2, 3], [1, 1, 3, 3, 4, 4, 5, 5, 6, 6, 8, 8, 9, 9, 10, 10, 11, 11, 12, 12], [-1.0, -1.0, -1.0, -1.0, 1.0, 1.0, 1.0, 1.0, 1.0, -1.0, -1.0, -1.0, -1.0, -1.0, 1.0, 1.0, -1.0, 1.0, 1.0, 1.0], 3, 12), [0.0, 0.0, 0.0], [0.0, 0.0, 0.0]), LinearConstr{Float64}(3, 12, sparse([1, 3, 2, 3, 1, 3, 2, 3, 1, 3, 1, 3, 1, 2, 2, 3, 2, 3, 1, 2], [2, 2, 3, 3, 5, 5, 6, 6, 7, 7, 8, 8, 9, 9, 10, 10, 11, 11, 12, 12], [-1.0, -1.0, -1.0, -1.0, -1.0, -1.0, -1.0, -1.0, 1.0, 1.0, 1.0, 1.0, 1.0, -1.0, 1.0, 1.0, 1.0, 1.0, -1.0, 1.0], 3, 12), [0.0, 0.0, 0.0], [0.0, 0.0, 0.0])], LinearConstr{Float64}(1, 12, [1.0 1.0 … 1.0 1.0], [1.0], [0.0]))"
                        ]
                    },
                    "metadata": {},
                    "output_type": "display_data"
                }
            ],
            "source": [
                "m = 10\n",
                "n = length(E)\n",
                "stpairs = [\n",
                "    zip(fill(1, m), rand(1:nᵥ, m))...\n",
                "]\n",
                "vec_const_x = []\n",
                "for (s, t) in stpairs\n",
                "    md, A, _... = ExchangeMarket.__query_Abc_standard(s, t, adj, E, nᵥ)\n",
                "    mₐ, nₐ = size(A)\n",
                "    push!(vec_const_x, LinearConstr(mₐ, nₐ, A, zeros(mₐ)))\n",
                "end\n",
                "ρ = 0.5\n",
                "constr_p = LinearConstr(1, n, ones(1, n), [1.0])\n",
                "\n",
                "f0 = FisherMarket(\n",
                "    m, n; ρ=ρ,\n",
                "    constr_x=vec_const_x, constr_p=constr_p,\n",
                "    bool_unit=true, bool_unit_wealth=true,\n",
                "    scale=10.0, sparsity=0.95\n",
                ")"
            ]
        },
        {
            "cell_type": "code",
            "execution_count": 38,
            "metadata": {},
            "outputs": [
                {
                    "data": {
                        "text/plain": [
                            "Dict{Symbol, Any} with 6 entries:\n",
                            "  :maxiter     => 20\n",
                            "  :tol         => 1.0e-10\n",
                            "  :optimizer   => ResponseOptimizer(__af_conic_log_response_ces, :linconicaffin…\n",
                            "  :option_mu   => :nothing\n",
                            "  :linsys      => :direct_affine\n",
                            "  :option_step => :affinesc"
                        ]
                    },
                    "metadata": {},
                    "output_type": "display_data"
                }
            ],
            "source": [
                "# define optimization arguments\n",
                "method = HessianBar\n",
                "kwargs = Dict(\n",
                "    :tol => 1e-10,\n",
                "    :maxiter => 20,\n",
                "    :optimizer => AFCESConic,\n",
                "    # :option_mu => :pred_corr,\n",
                "    :option_mu => :nothing,\n",
                "    :option_step => :affinesc,\n",
                "    :linsys => :direct_affine, # only support direct for now\n",
                ")"
            ]
        },
        {
            "cell_type": "code",
            "execution_count": null,
            "metadata": {},
            "outputs": [
                {
                    "name": "stdout",
                    "output_type": "stream",
                    "text": [
                        "FisherMarket initialization started...\n",
                        "FisherMarket cost matrix initialized in 7.796287536621094e-5 seconds\n",
                        "FisherMarket initialized in 0.00011992454528808594 seconds\n"
                    ]
                },
                {
                    "data": {
                        "text/plain": [
                            "HessianBar{Float64}(12, 10, [0.08333333333333331, 0.08333333333333331, 0.08333333333333331, 0.08333333333333331, 0.08333333333333331, 0.08333333333333331, 0.08333333333333331, 0.08333333333333331, 0.08333333333333331, 0.08333333333333331, 0.08333333333333331, 0.08333333333333331], [0.0, 0.0, 0.0, 0.0, 0.0, 0.0, 0.0, 0.0, 0.0, 0.0, 0.0, 0.0], [0.08333333333333331, 0.08333333333333331, 0.08333333333333331, 0.08333333333333331, 0.08333333333333331, 0.08333333333333331, 0.08333333333333331, 0.08333333333333331, 0.08333333333333331, 0.08333333333333331, 0.08333333333333331, 0.08333333333333331], [0.0, 0.0, 0.0, 0.0, 0.0, 0.0, 0.0, 0.0, 0.0, 0.0, 0.0, 0.0], [0.0], [0.0], [0.604149828911257, 0.5336085663333506, 0.9628985358994283, 0.5460329380374557, 0.8098860312750314, 0.9578878612892814, 0.9914835641805719, 0.19217068642025237, 0.8603940121903297, 0.7538272613882555, 0.7463191704063897, 0.05979467827914209], 1.0e-6, -1.0e6, [0.0, 0.0, 0.0, 0.0, 0.0, 0.0, 0.0, 0.0, 0.0, 0.0, 0.0, 0.0], [0.0, 0.0, 0.0, 0.0, 0.0, 0.0, 0.0, 0.0, 0.0, 0.0, 0.0, 0.0], 0.0, 2.0e-323, 5.0e-324, [0.0, 0.0, 0.0, 0.0, 0.0, 0.0, 0.0, 0.0, 0.0, 0.0, 0.0, 0.0], [0.0, 0.0, 0.0, 0.0, 0.0, 0.0, 0.0, 0.0, 0.0, 0.0, 0.0, 0.0], [0.0], 5.0e-324, sparse(Int64[], Int64[], Float64[], 12, 12), SMWDRq{Float64}(12, [0.0, 0.0, 0.0, 0.0, 0.0, 0.0, 0.0, 0.0, 0.0, 0.0, 0.0, 0.0], [[0.0, 0.0, 0.0, 0.0, 0.0, 0.0, 0.0, 0.0, 0.0, 0.0, 0.0, 0.0]], [0.0], nothing, Dict(1 => [1, 2, 3, 4, 5, 6, 7, 8, 9, 10]), 1), 1.749992164373917e9, 2.3753482906e-314, 2.3888275555e-314, 2.359810851e-314, 0, 0.0, 20, 100.0, 1.0e-10, :HessianBar, ExchangeMarket.ResponseOptimizer(ExchangeMarket.__af_conic_log_response_ces, :linconicaffine, \"AFCESConicResponse\"), :direct_affine, NullSampler(#undef, 3), :dual, :affinesc, :nothing, LinearConstr{Float64}(1, 12, [1.0 1.0 … 1.0 1.0], [1.0], [0.0]))"
                        ]
                    },
                    "metadata": {},
                    "output_type": "display_data"
                }
            ],
            "source": [
                "f1 = copy(f0)\n",
                "p₀ = ones(n) * sum(f1.w) ./ (n)\n",
                "if typeof(f1.c) <: SparseMatrixCSC\n",
                "    x₀ = similar(f1.c)\n",
                "    x₀.nzval .= 1.0\n",
                "else\n",
                "    x₀ = ones(n, m) ./ m\n",
                "end\n",
                "f1.x .= x₀\n",
                "f1.p .= p₀\n",
                "alg = method(\n",
                "    n, m, p₀;\n",
                "    linconstr=constr_p,\n",
                "    μ=1e-6,\n",
                "    kwargs...\n",
                ")\n",
                "traj = opt!(\n",
                "    alg, f1;\n",
                "    keep_traj=true,\n",
                "    maxiter=50,\n",
                "    maxtime=500.0,\n",
                "    loginterval=1,\n",
                "    tol=1e-12\n",
                ")\n",
                "validate(f1, alg)"
            ]
        },
        {
            "cell_type": "markdown",
            "metadata": {},
            "source": [
                "## Test flow conservation"
            ]
        },
        {
            "cell_type": "code",
            "execution_count": 42,
            "metadata": {},
            "outputs": [
                {
                    "name": "stderr",
                    "output_type": "stream",
                    "text": [
                        "┌ Info: flow conservation residual:\n",
                        "│   (_A * _f .|> abs) |> sum = 2.400012697259535e-12\n",
                        "└ @ Main /Users/brent/Documents/recherche/25-ipm-auction-fisher/ExchangeMarket.jl/scripts/fisher/jl_notebook_cell_df34fa98e69747e1a8f8a730347b8e2f_Y150sZmlsZQ==.jl:4\n",
                        "┌ Info: flow conservation residual:\n",
                        "│   (_A * _f .|> abs) |> sum = 1.580271265406996e-11\n",
                        "└ @ Main /Users/brent/Documents/recherche/25-ipm-auction-fisher/ExchangeMarket.jl/scripts/fisher/jl_notebook_cell_df34fa98e69747e1a8f8a730347b8e2f_Y150sZmlsZQ==.jl:4\n",
                        "┌ Info: flow conservation residual:\n",
                        "│   (_A * _f .|> abs) |> sum = 5.701275411531246e-9\n",
                        "└ @ Main /Users/brent/Documents/recherche/25-ipm-auction-fisher/ExchangeMarket.jl/scripts/fisher/jl_notebook_cell_df34fa98e69747e1a8f8a730347b8e2f_Y150sZmlsZQ==.jl:4\n",
                        "┌ Info: flow conservation residual:\n",
                        "│   (_A * _f .|> abs) |> sum = 4.786434322681998e-7\n",
                        "└ @ Main /Users/brent/Documents/recherche/25-ipm-auction-fisher/ExchangeMarket.jl/scripts/fisher/jl_notebook_cell_df34fa98e69747e1a8f8a730347b8e2f_Y150sZmlsZQ==.jl:4\n",
                        "┌ Info: flow conservation residual:\n",
                        "│   (_A * _f .|> abs) |> sum = 3.27317020275969e-10\n",
                        "└ @ Main /Users/brent/Documents/recherche/25-ipm-auction-fisher/ExchangeMarket.jl/scripts/fisher/jl_notebook_cell_df34fa98e69747e1a8f8a730347b8e2f_Y150sZmlsZQ==.jl:4\n",
                        "┌ Info: flow conservation residual:\n",
                        "│   (_A * _f .|> abs) |> sum = 1.6403568114193674e-7\n",
                        "└ @ Main /Users/brent/Documents/recherche/25-ipm-auction-fisher/ExchangeMarket.jl/scripts/fisher/jl_notebook_cell_df34fa98e69747e1a8f8a730347b8e2f_Y150sZmlsZQ==.jl:4\n",
                        "┌ Info: flow conservation residual:\n",
                        "│   (_A * _f .|> abs) |> sum = 4.730127595165001e-8\n",
                        "└ @ Main /Users/brent/Documents/recherche/25-ipm-auction-fisher/ExchangeMarket.jl/scripts/fisher/jl_notebook_cell_df34fa98e69747e1a8f8a730347b8e2f_Y150sZmlsZQ==.jl:4\n",
                        "┌ Info: flow conservation residual:\n",
                        "│   (_A * _f .|> abs) |> sum = 6.678425600893916e-12\n",
                        "└ @ Main /Users/brent/Documents/recherche/25-ipm-auction-fisher/ExchangeMarket.jl/scripts/fisher/jl_notebook_cell_df34fa98e69747e1a8f8a730347b8e2f_Y150sZmlsZQ==.jl:4\n",
                        "┌ Info: flow conservation residual:\n",
                        "│   (_A * _f .|> abs) |> sum = 1.8124931955851863e-7\n",
                        "└ @ Main /Users/brent/Documents/recherche/25-ipm-auction-fisher/ExchangeMarket.jl/scripts/fisher/jl_notebook_cell_df34fa98e69747e1a8f8a730347b8e2f_Y150sZmlsZQ==.jl:4\n",
                        "┌ Info: flow conservation residual:\n",
                        "│   (_A * _f .|> abs) |> sum = 1.6056461715763248e-12\n",
                        "└ @ Main /Users/brent/Documents/recherche/25-ipm-auction-fisher/ExchangeMarket.jl/scripts/fisher/jl_notebook_cell_df34fa98e69747e1a8f8a730347b8e2f_Y150sZmlsZQ==.jl:4\n"
                    ]
                }
            ],
            "source": [
                "for i in 1:m\n",
                "    _f = f1.x[:, i]\n",
                "    _A = f1.constr_x[i].A\n",
                "    @info \"flow conservation residual:\" _A * _f .|> abs |> sum\n",
                "end"
            ]
        }
    ],
    "metadata": {
        "kernelspec": {
            "display_name": "Julia 1.10.3",
            "language": "julia",
            "name": "julia-1.10"
        },
        "language_info": {
            "file_extension": ".jl",
            "mimetype": "application/julia",
            "name": "julia",
            "version": "1.10.3"
        }
    },
    "nbformat": 4,
    "nbformat_minor": 2
}
