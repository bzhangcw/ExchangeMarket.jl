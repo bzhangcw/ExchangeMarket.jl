{
    "cells": [
        {
            "cell_type": "markdown",
            "metadata": {},
            "source": [
                "# Sample run for Fisher Market"
            ]
        },
        {
            "cell_type": "code",
            "execution_count": 1,
            "metadata": {},
            "outputs": [
                {
                    "name": "stderr",
                    "output_type": "stream",
                    "text": [
                        "\u001b[32m\u001b[1m  Activating\u001b[22m\u001b[39m project at `~/workspace/ExchangeMarket.jl/scripts`\n"
                    ]
                }
            ],
            "source": [
                "using Pkg\n",
                "Pkg.activate(\"../\")"
            ]
        },
        {
            "cell_type": "code",
            "execution_count": 2,
            "metadata": {},
            "outputs": [
                {
                    "data": {
                        "text/plain": [
                            ":pdf"
                        ]
                    },
                    "metadata": {},
                    "output_type": "display_data"
                }
            ],
            "source": [
                "using Revise\n",
                "using SparseArrays, LinearAlgebra\n",
                "using JuMP, MosekTools\n",
                "using Plots, LaTeXStrings, Printf, Random\n",
                "import MathOptInterface as MOI\n",
                "\n",
                "using ExchangeMarket\n",
                "\n",
                "include(\"../tools.jl\")\n",
                "include(\"../plots.jl\")\n",
                "include(\"setup.jl\")\n",
                "switch_to_pdf(;)\n"
            ]
        },
        {
            "cell_type": "markdown",
            "metadata": {},
            "source": [
                "## Test a CES Economy\n",
                "\n",
                "Run CES economy by HessianBarrier method (primal-dual predictor-corrector mode)\n",
                "\n",
                "- note this example is `not` so small, use smaller $n, m$ if needed"
            ]
        },
        {
            "cell_type": "code",
            "execution_count": 3,
            "metadata": {},
            "outputs": [
                {
                    "data": {
                        "text/plain": [
                            "1000"
                        ]
                    },
                    "metadata": {},
                    "output_type": "display_data"
                }
            ],
            "source": [
                "Random.seed!(1234)\n",
                "n = 50\n",
                "m = 1000"
            ]
        },
        {
            "cell_type": "code",
            "execution_count": 4,
            "metadata": {},
            "outputs": [
                {
                    "name": "stdout",
                    "output_type": "stream",
                    "text": [
                        "FisherMarket initialization started...\n",
                        "FisherMarket cost matrix initialized in 0.09089493751525879 seconds\n",
                        "FisherMarket initialized in 0.09203577041625977 seconds\n",
                        "FisherMarket initialization started...\n",
                        "FisherMarket cost matrix initialized in 0.00537109375 seconds\n",
                        "FisherMarket initialized in 0.009090900421142578 seconds\n"
                    ]
                },
                {
                    "data": {
                        "text/plain": [
                            "Dict{Int64, Vector{Rational{Int64}}} with 2 entries:\n",
                            "  2 => [501, 502, 503, 504, 505, 506, 507, 508, 509, 510  …  991, 992, 993, 994…\n",
                            "  1 => [1, 2, 3, 4, 5, 6, 7, 8, 9, 10  …  491, 492, 493, 494, 495, 496, 497, 49…"
                        ]
                    },
                    "metadata": {},
                    "output_type": "display_data"
                }
            ],
            "source": [
                "method = HessianBar\n",
                "kwargs = Dict(\n",
                "    :tol => 1e-10,\n",
                "    :maxiter => 20,\n",
                "    :option_step => :logbar,\n",
                "    :linsys => :DRq,\n",
                ")\n",
                "\n",
                "\n",
                "f0 = FisherMarket(m, n; ρ=0.8, bool_unit=true, sparsity=0.95, bool_force_dense=true)\n",
                "linconstr = LinearConstr(1, n, ones(1, n), [sum(f0.w)])\n",
                "\n",
                "f1 = copy(f0)\n",
                "p₀ = ones(n) ./ m\n",
                "x₀ = ones(n, m) / m\n",
                "f1.x .= x₀\n",
                "f1.p .= p₀\n",
                "\n",
                "alg = method(\n",
                "    n, m, p₀;\n",
                "    optimizer=CESAnalytic,\n",
                "    linconstr=linconstr,\n",
                "    kwargs...\n",
                ")"
            ]
        },
        {
            "cell_type": "markdown",
            "metadata": {},
            "source": [
                "### Define a cluster map"
            ]
        },
        {
            "cell_type": "code",
            "execution_count": 7,
            "metadata": {},
            "outputs": [
                {
                    "data": {
                        "text/plain": [
                            "Dict{Int64, Vector{Int64}} with 2 entries:\n",
                            "  2 => [501, 502, 503, 504, 505, 506, 507, 508, 509, 510  …  991, 992, 993, 994…\n",
                            "  1 => [1, 2, 3, 4, 5, 6, 7, 8, 9, 10  …  491, 492, 493, 494, 495, 496, 497, 49…"
                        ]
                    },
                    "metadata": {},
                    "output_type": "display_data"
                }
            ],
            "source": [
                "alg.Ha.cluster_map = Dict(1 => [1:m//2...], 2 => [m//2+1:m...])\n",
                "alg.Ha.cluster_map"
            ]
        },
        {
            "cell_type": "code",
            "execution_count": 6,
            "metadata": {},
            "outputs": [
                {
                    "name": "stdout",
                    "output_type": "stream",
                    "text": [
                        "--------------------------------------------------------------------------------------------\n",
                        "                   ExchangeMarket.jl: A Julia Package for Exchange Market                   \n",
                        "                                    © Chuwen Zhang (2024)                                    \n",
                        "--------------------------------------------------------------------------------------------\n",
                        " subproblem solver alias       := CESAnalytic\n",
                        " subproblem solver style       := analytic\n",
                        " lin-system solver alias       := DRq\n",
                        " option for gradient           := dual\n",
                        " option for step               := logbar\n",
                        " option for μ                  := normal\n",
                        "--------------------------------------------------------------------------------------------\n",
                        "      k |  lg(μ) |             φ |    |∇φ| |    |Δp| |       t |      tₗ |       α |     kᵢ \n",
                        "      0 |  -6.00 | +9.486221e-01 | 1.4e+02 | 1.3e-01 | 1.0e+00 | 4.0e-01 | 1.0e+00 | 2.0e+01 \n",
                        "      1 |  -7.00 | -1.091661e+00 | 1.8e+00 | 8.7e-03 | 1.1e+00 | 4.0e-01 | 1.0e+00 | 2.0e+01 \n",
                        "      2 |  -7.99 | -1.099094e+00 | 6.0e-01 | 2.0e-03 | 1.1e+00 | 4.0e-01 | 1.0e+00 | 2.0e+01 \n",
                        "      3 |  -8.99 | -1.099856e+00 | 1.7e-01 | 6.6e-04 | 1.1e+00 | 4.1e-01 | 1.0e+00 | 2.0e+01 \n",
                        "      4 |  -9.99 | -1.099930e+00 | 5.0e-02 | 2.1e-04 | 1.1e+00 | 4.1e-01 | 1.0e+00 | 2.0e+01 \n",
                        "      5 | -10.99 | -1.099936e+00 | 1.5e-02 | 6.6e-05 | 1.1e+00 | 4.1e-01 | 1.0e+00 | 2.0e+01 \n",
                        "      6 | -11.98 | -1.099937e+00 | 4.6e-03 | 2.0e-05 | 1.1e+00 | 4.1e-01 | 1.0e+00 | 2.0e+01 \n",
                        "      7 | -12.98 | -1.099937e+00 | 1.4e-03 | 6.3e-06 | 1.1e+00 | 4.1e-01 | 1.0e+00 | 2.0e+01 \n",
                        "      8 | -13.98 | -1.099937e+00 | 4.4e-04 | 2.0e-06 | 1.1e+00 | 4.1e-01 | 1.0e+00 | 2.0e+01 \n",
                        "      9 | -14.98 | -1.099937e+00 | 1.4e-04 | 6.1e-07 | 1.1e+00 | 4.1e-01 | 1.0e+00 | 2.0e+01 \n",
                        "     10 | -15.98 | -1.099937e+00 | 4.3e-05 | 1.9e-07 | 1.1e+00 | 4.1e-01 | 1.0e+00 | 2.0e+01 \n",
                        "     11 | -16.97 | -1.099937e+00 | 1.3e-05 | 5.9e-08 | 1.1e+00 | 4.1e-01 | 1.0e+00 | 2.0e+01 \n",
                        "     12 | -17.97 | -1.099937e+00 | 4.2e-06 | 1.9e-08 | 1.1e+00 | 4.1e-01 | 1.0e+00 | 2.0e+01 \n",
                        "     13 | -18.97 | -1.099937e+00 | 1.3e-06 | 5.8e-09 | 1.1e+00 | 4.1e-01 | 1.0e+00 | 2.0e+01 \n",
                        "     14 | -19.97 | -1.099937e+00 | 4.1e-07 | 1.8e-09 | 1.1e+00 | 4.1e-01 | 1.0e+00 | 2.0e+01 \n",
                        "     15 | -20.00 | -1.099937e+00 | 1.3e-07 | 5.8e-10 | 1.1e+00 | 4.1e-01 | 1.0e+00 | 2.0e+01 \n",
                        "     16 | -20.00 | -1.099937e+00 | 4.1e-08 | 1.8e-10 | 1.1e+00 | 4.2e-01 | 1.0e+00 | 2.0e+01 \n",
                        "     17 | -20.00 | -1.099937e+00 | 1.3e-08 | 5.7e-11 | 1.1e+00 | 4.2e-01 | 1.0e+00 | 2.0e+01 \n",
                        "     18 | -20.00 | -1.099937e+00 | 4.1e-09 | 1.8e-11 | 1.1e+00 | 4.2e-01 | 1.0e+00 | 2.0e+01 \n",
                        "--------------------------------------------------------------------------------------------\n",
                        " ✓  final play\n",
                        " ✓  finished in          19 steps\n",
                        "             in 1.13288e+00 seconds\n",
                        "  best-resp. in 4.16561e-01 seconds \n",
                        "            avg 2.19243e-02 seconds \n",
                        "          usage 36.77%\n",
                        "--------------------------------------------------------------------------------------------\n"
                    ]
                }
            ],
            "source": [
                "traj = opt!(\n",
                "    alg, f1;\n",
                "    keep_traj=true,\n",
                "    tol=1e-8\n",
                ");"
            ]
        },
        {
            "cell_type": "markdown",
            "metadata": {},
            "source": [
                "### Validate results"
            ]
        },
        {
            "cell_type": "code",
            "execution_count": null,
            "metadata": {},
            "outputs": [],
            "source": [
                "validate(f1, alg)"
            ]
        },
        {
            "cell_type": "markdown",
            "metadata": {},
            "source": [
                "### Plot trajectory \n",
                "\n",
                "we plot the dual local norm $\\|\\nabla \\varphi\\|_{\\mathbf{p}}^*$ of the trajectory."
            ]
        },
        {
            "cell_type": "code",
            "execution_count": null,
            "metadata": {},
            "outputs": [],
            "source": [
                "fig = generate_empty(; shape=:wide)\n",
                "plot!(\n",
                "    ylabel=L\"$\\|\\nabla \\varphi\\|_{\\mathbf{p}}^*$\",\n",
                "    legendbackgroundcolor=RGBA(1.0, 1.0, 1.0, 0.8),\n",
                "    yticks=10.0 .^ (-10:3:3),\n",
                ")\n",
                "\n",
                "ρfmt = @sprintf(\"%+.2f\", f1.ρ)\n",
                "σfmt = @sprintf(\"%+.2f\", f1.σ)\n",
                "traj_pp₊ = map(pp -> pp.gₙ + 1e-18, traj)\n",
                "plot!(fig, traj_pp₊[2:end], label=L\"$\\rho := %$ρfmt~(\\sigma_i := %$σfmt)$\", linewidth=2, markershape=:circle)\n",
                "\n",
                "fig"
            ]
        },
        {
            "cell_type": "code",
            "execution_count": null,
            "metadata": {},
            "outputs": [],
            "source": []
        }
    ],
    "metadata": {
        "kernelspec": {
            "display_name": "Julia 1.10.3",
            "language": "julia",
            "name": "julia-1.10"
        },
        "language_info": {
            "file_extension": ".jl",
            "mimetype": "application/julia",
            "name": "julia",
            "version": "1.10.3"
        }
    },
    "nbformat": 4,
    "nbformat_minor": 2
}
