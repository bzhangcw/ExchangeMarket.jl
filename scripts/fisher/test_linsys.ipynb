{
 "cells": [
  {
   "cell_type": "markdown",
   "metadata": {},
   "source": [
    "# Sample run for Fisher Market"
   ]
  },
  {
   "cell_type": "code",
   "execution_count": 1,
   "metadata": {},
   "outputs": [
    {
     "name": "stderr",
     "output_type": "stream",
     "text": [
      "\u001b[32m\u001b[1m  Activating\u001b[22m\u001b[39m project at `~/workspace/ExchangeMarket.jl/scripts`\n"
     ]
    }
   ],
   "source": [
    "using Pkg\n",
    "Pkg.activate(\"../\")"
   ]
  },
  {
   "cell_type": "code",
   "execution_count": 20,
   "metadata": {},
   "outputs": [
    {
     "data": {
      "text/plain": [
       "1.0e-6"
      ]
     },
     "metadata": {},
     "output_type": "display_data"
    }
   ],
   "source": [
    "using Revise\n",
    "using Random, SparseArrays, LinearAlgebra\n",
    "using JuMP, MosekTools\n",
    "using Plots, LaTeXStrings, Printf\n",
    "import MathOptInterface as MOI\n",
    "using Plots, LaTeXStrings, Printf, JLD2\n",
    "using ExchangeMarket\n",
    "\n",
    "include(\"../tools.jl\")\n",
    "include(\"../plots.jl\")\n",
    "include(\"./setup.jl\")\n",
    "switch_to_pdf(; bool_use_html=true)\n",
    "\n",
    "\n",
    "@load \"../ml-32m.jld2\" S\n",
    "bool_part = true\n",
    "if bool_part\n",
    "    m = 2000\n",
    "    n = 1000\n",
    "    T = S[1:n, 1:m]\n",
    "else\n",
    "end\n",
    "S, cols, rows = ExchangeMarket.drop_empty(T)\n",
    "n, m = size(S)\n",
    "# S = Matrix(S)\n",
    "S = S .* 2.0\n",
    "ϵₚ = 1e-6\n"
   ]
  },
  {
   "cell_type": "markdown",
   "metadata": {},
   "source": [
    "## Test different $\\rho$ in a CES Economy\n",
    "\n",
    "Run CES economy by different methods"
   ]
  },
  {
   "cell_type": "code",
   "execution_count": 21,
   "metadata": {},
   "outputs": [
    {
     "data": {
      "text/plain": [
       "method_filter (generic function with 1 method)"
      ]
     },
     "metadata": {},
     "output_type": "display_data"
    }
   ],
   "source": [
    "method_filter(name) = name ∈ [:LogBar, :PathFol, :Tât, :PropRes]"
   ]
  },
  {
   "cell_type": "code",
   "execution_count": 22,
   "metadata": {},
   "outputs": [
    {
     "name": "stdout",
     "output_type": "stream",
     "text": [
      "FisherMarket initialization started...\n",
      "FisherMarket cost matrix initialized in 0.0031189918518066406 seconds\n",
      "FisherMarket initialized in 0.00321197509765625 seconds\n",
      "FisherMarket initialization started...\n",
      "FisherMarket cost matrix initialized in 0.002148866653442383 seconds\n",
      "FisherMarket initialized in 0.0022020339965820312 seconds\n",
      "--------------------------------------------------------------------------------------------\n",
      "                   ExchangeMarket.jl: A Julia Package for Exchange Market                   \n",
      "                                    © Chuwen Zhang (2024)                                    \n",
      "--------------------------------------------------------------------------------------------\n",
      " subproblem solver alias       := CESAnalytic\n",
      " subproblem solver style       := analytic\n",
      " lin-system solver alias       := krylov\n",
      " option for gradient           := dual\n",
      " option for step               := logbar\n",
      " option for μ                  := pred_corr\n",
      "--------------------------------------------------------------------------------------------\n",
      "      k |  lg(μ) |             φ |    |∇φ| |    |Δp| |       t |      tₗ |       α |     kᵢ \n",
      "      0 |  -6.00 | +6.486284e+00 | 4.8e+01 | 2.7e-01 | 7.6e-02 | 1.8e-02 | 1.0e-02 | 2.0e+00 \n",
      "      1 |  -5.90 | +6.483555e+00 | 1.4e+03 | 4.5e+01 | 1.8e-01 | 5.0e-02 | 1.2e-04 | 2.0e+00 \n",
      "      2 |  -5.90 | +6.489628e+00 | 1.4e+03 | 1.3e+02 | 2.7e-01 | 7.5e-02 | 2.0e-05 | 2.0e+00 \n",
      "      3 |  -5.96 | +6.492216e+00 | 1.4e+03 | 1.3e+01 | 3.7e-01 | 9.8e-02 | 3.9e-04 | 2.0e+00 \n",
      "      4 |  -5.97 | +6.497984e+00 | 1.4e+03 | 5.9e+00 | 4.7e-01 | 1.3e-01 | 8.6e-04 | 2.0e+00 \n",
      "      5 |  -5.98 | +6.502606e+00 | 1.4e+03 | 7.7e-01 | 5.7e-01 | 1.6e-01 | 4.3e-03 | 2.0e+00 \n",
      "      6 |  -5.97 | +6.502853e+00 | 1.3e+03 | 4.5e-01 | 6.7e-01 | 1.8e-01 | 2.8e-02 | 2.0e+00 \n",
      "      7 |  -5.91 | +6.485692e+00 | 1.2e+03 | 1.0e+00 | 7.6e-01 | 2.0e-01 | 7.6e-03 | 2.0e+00 \n",
      "      8 |  -5.53 | +6.480538e+00 | 1.2e+03 | 2.7e+00 | 8.7e-01 | 2.3e-01 | 1.1e-02 | 2.0e+00 \n",
      "      9 |  -5.19 | +6.496929e+00 | 8.1e+02 | 1.2e+00 | 9.6e-01 | 2.5e-01 | 1.2e-02 | 2.0e+00 \n",
      "     10 |  -4.38 | +6.491998e+00 | 8.0e+02 | 6.6e-01 | 1.1e+00 | 2.8e-01 | 3.3e-02 | 2.0e+00 \n",
      "     11 |  -5.73 | +6.460691e+00 | 7.8e+02 | 8.5e-01 | 1.3e+00 | 3.0e-01 | 5.8e-03 | 2.0e+00 \n",
      "     12 |  -5.73 | +6.455774e+00 | 7.2e+02 | 8.6e-02 | 1.4e+00 | 3.2e-01 | 1.4e-02 | 2.0e+00 \n",
      "     13 |  -5.69 | +6.447759e+00 | 2.5e+03 | 2.5e+00 | 1.6e+00 | 4.4e-01 | 1.2e-02 | 2.0e+00 \n",
      "     14 |  -5.30 | +6.462900e+00 | 3.6e+03 | 3.8e+01 | 1.7e+00 | 4.8e-01 | 2.3e-04 | 2.0e+00 \n",
      "     15 |  -5.29 | +6.471221e+00 | 3.6e+03 | 8.3e-01 | 1.8e+00 | 5.0e-01 | 3.6e-02 | 2.0e+00 \n",
      "     16 |  -5.67 | +6.436679e+00 | 3.5e+03 | 1.9e+00 | 1.8e+00 | 5.2e-01 | 1.3e-03 | 2.0e+00 \n",
      "     17 |  -5.67 | +6.437336e+00 | 3.5e+03 | 9.4e-01 | 1.9e+00 | 5.5e-01 | 8.9e-03 | 2.0e+00 \n",
      "     18 |  -5.68 | +6.429092e+00 | 3.5e+03 | 6.2e-01 | 2.0e+00 | 5.8e-01 | 5.3e-03 | 2.0e+00 \n",
      "     19 |  -5.67 | +6.428581e+00 | 3.6e+03 | 3.1e-02 | 2.1e+00 | 6.0e-01 | 4.9e-02 | 2.0e+00 \n",
      "      k |  lg(μ) |             φ |    |∇φ| |    |Δp| |       t |      tₗ |       α |     kᵢ \n",
      "     20 |  -5.65 | +6.403800e+00 | 6.1e+03 | 2.4e-02 | 2.1e+00 | 6.3e-01 | 2.2e-01 | 2.0e+00 \n",
      "     21 |  -5.68 | +6.311186e+00 | 1.1e+04 | 1.2e-02 | 2.2e+00 | 6.5e-01 | 3.1e-01 | 2.0e+00 \n",
      "     22 |  -5.83 | +6.235752e+00 | 8.0e+03 | 8.1e-03 | 2.3e+00 | 6.8e-01 | 6.9e-01 | 2.0e+00 \n",
      "     23 |  -6.34 | +6.159682e+00 | 4.7e+03 | 4.3e-03 | 2.3e+00 | 6.9e-01 | 1.0e+00 | 2.0e+00 \n",
      "     24 |  -7.18 | +6.132474e+00 | 2.3e+03 | 2.0e-03 | 2.5e+00 | 7.2e-01 | 1.0e+00 | 2.0e+00 \n",
      "     25 |  -7.75 | +6.126274e+00 | 1.1e+03 | 6.7e-04 | 2.6e+00 | 7.5e-01 | 1.0e+00 | 2.0e+00 \n",
      "     26 |  -7.89 | +6.123457e+00 | 5.5e+02 | 1.1e-04 | 2.7e+00 | 7.7e-01 | 1.0e+00 | 2.0e+00 \n",
      "     27 |  -7.90 | +6.121406e+00 | 2.6e+02 | 3.3e-05 | 2.8e+00 | 8.0e-01 | 1.0e+00 | 2.0e+00 \n",
      "     28 |  -7.98 | +6.119937e+00 | 1.2e+02 | 3.4e-05 | 2.8e+00 | 8.3e-01 | 1.0e+00 | 2.0e+00 \n",
      "     29 |  -8.18 | +6.118992e+00 | 5.1e+01 | 3.4e-05 | 2.9e+00 | 8.5e-01 | 1.0e+00 | 2.0e+00 \n",
      "     30 |  -8.53 | +6.118446e+00 | 2.2e+01 | 3.2e-05 | 3.0e+00 | 8.8e-01 | 1.0e+00 | 2.0e+00 \n",
      "     31 |  -9.05 | +6.118161e+00 | 8.9e+00 | 3.0e-05 | 3.0e+00 | 9.1e-01 | 1.0e+00 | 2.0e+00 \n",
      "     32 |  -9.76 | +6.118030e+00 | 3.5e+00 | 2.6e-05 | 3.1e+00 | 9.3e-01 | 1.0e+00 | 2.0e+00 \n",
      "     33 | -10.74 | +6.117978e+00 | 1.3e+00 | 2.0e-05 | 3.2e+00 | 9.7e-01 | 1.0e+00 | 2.0e+00 \n",
      "     34 | -12.05 | +6.117964e+00 | 3.6e-01 | 1.0e-05 | 3.2e+00 | 9.9e-01 | 1.0e+00 | 2.0e+00 \n",
      "     35 | -13.92 | +6.117962e+00 | 5.6e-02 | 2.3e-06 | 3.4e+00 | 1.0e+00 | 1.0e+00 | 2.0e+00 \n",
      "     36 | -16.92 | +6.117962e+00 | 2.0e-03 | 8.8e-08 | 3.5e+00 | 1.1e+00 | 1.0e+00 | 2.0e+00 \n",
      "     37 | -20.22 | +6.117962e+00 | 3.8e-06 | 1.7e-10 | 3.5e+00 | 1.1e+00 | 1.0e+00 | 2.0e+00 \n",
      "     38 | -23.52 | +6.117962e+00 | 2.9e-09 | 0.0e+00 | 3.5e+00 | 1.1e+00 | 1.0e+00 | 2.0e+00 \n",
      "--------------------------------------------------------------------------------------------\n",
      " ✓  final play\n",
      " ✓  finished in          39 steps\n",
      "             in 3.53028e+00 seconds\n",
      "  best-resp. in 1.10498e+00 seconds \n",
      "            avg 2.83329e-02 seconds \n",
      "          usage 31.30%\n",
      "--------------------------------------------------------------------------------------------\n"
     ]
    }
   ],
   "source": [
    "table_time = []\n",
    "results = []\n",
    "results_phi = Dict()\n",
    "results_ground = Dict()\n",
    "# for ρ in rrange\n",
    "# ρ = -0.92\n",
    "ρ = 0.6\n",
    "\n",
    "f0 = FisherMarket(m, n; c=S, ρ=ρ, bool_unit=true, bool_unit_wealth=true, scale=0.1, bool_ensure_nz=true)\n",
    "# f0 = FisherMarket(m, n; ρ=ρ, bool_unit=true, scale=30.0, sparsity=0.2)\n",
    "\n",
    "linconstr = LinearConstr(1, n, ones(1, n), [sum(f0.w)])\n",
    "ρfmt = @sprintf(\"%+.2f\", ρ)\n",
    "σfmt = @sprintf(\"%+.2f\", f0.σ)\n",
    "# -----------------------------------------------------------------------\n",
    "# compute ground truth\n",
    "# -----------------------------------------------------------------------\n",
    "f1 = copy(f0)\n",
    "p₀ = ones(n) * sum(f1.w) ./ (n)\n",
    "x₀ = ones(n, m) ./ m\n",
    "f1.x .= x₀\n",
    "f1.p .= p₀\n",
    "# use log-barrier method to compute ground truth\n",
    "(name, method, kwargs) = method_kwargs[1]\n",
    "kwargs = Dict(\n",
    "    :tol => 1e-12, :maxiter => 20,\n",
    "    :optimizer => CESAnalytic,\n",
    "    :option_mu => :pred_corr,\n",
    "    # :option_mu => :normal,\n",
    "    #\n",
    "    # :option_step => :affinesc,\n",
    "    # :option_step => :homotopy,\n",
    "    :option_step => :logbar,\n",
    "    # :linsys => :DRq,\n",
    "    :linsys => :krylov,\n",
    "    # :linsys => :direct,\n",
    ")\n",
    "alg = method(\n",
    "    n, m, p₀;\n",
    "    linconstr=linconstr,\n",
    "    kwargs...\n",
    ")\n",
    "traj = opt!(\n",
    "    alg, f1;\n",
    "    loginterval=1,\n",
    "    maxiter=100,\n",
    "    keep_traj=true,\n",
    "    bool_init_phase=false,\n",
    ")\n",
    "pₛ = copy(alg.p)\n",
    "results_phi[ρ] = pₛ\n",
    "results_ground[ρ] = (alg, traj, f1);\n"
   ]
  },
  {
   "cell_type": "code",
   "execution_count": 5,
   "metadata": {},
   "outputs": [
    {
     "data": {
      "text/plain": [
       "1"
      ]
     },
     "metadata": {},
     "output_type": "display_data"
    }
   ],
   "source": [
    "s = [1]\n",
    "s[]"
   ]
  },
  {
   "cell_type": "code",
   "execution_count": 6,
   "metadata": {},
   "outputs": [],
   "source": [
    "using LinearAlgebra, LinearOperators, Krylov"
   ]
  },
  {
   "cell_type": "code",
   "execution_count": null,
   "metadata": {},
   "outputs": [],
   "source": [
    "alg.Hk.niter"
   ]
  },
  {
   "cell_type": "code",
   "execution_count": null,
   "metadata": {},
   "outputs": [],
   "source": [
    "f1.σ"
   ]
  },
  {
   "cell_type": "code",
   "execution_count": null,
   "metadata": {},
   "outputs": [],
   "source": [
    "@time ExchangeMarket.__compute_exact_hess_optimized!(alg, f1)\n",
    "H = diagm(alg.p) * alg.H * diagm(alg.p)\n",
    "\n",
    "# fisher = f1\n",
    "# b = alg.p .* fisher.x\n",
    "# pxbar = sum(b; dims=2)[:]\n",
    "# γ = 1 ./ fisher.w' .* b\n",
    "# u = fisher.w .* fisher.σ\n",
    "# H₁ = diagm(pxbar .* (fisher.σ + 1)) - γ * diagm(u) * γ'\n",
    "# H₁ - H"
   ]
  },
  {
   "cell_type": "markdown",
   "metadata": {},
   "source": [
    "## Baseline"
   ]
  },
  {
   "cell_type": "code",
   "execution_count": null,
   "metadata": {},
   "outputs": [],
   "source": [
    "ExchangeMarket.__update_php_hessop!(alg, f1)\n",
    "d, stats = cg(alg.Hk.php_hessop, alg.p .* alg.∇; verbose=3, timemax=10.0, history=true)"
   ]
  },
  {
   "cell_type": "code",
   "execution_count": null,
   "metadata": {},
   "outputs": [],
   "source": [
    "ExchangeMarket.__update_php_hessop!(alg, f1)\n",
    "d, stats = cg(H, alg.p .* alg.∇; verbose=3, timemax=10.0)"
   ]
  },
  {
   "cell_type": "code",
   "execution_count": 14,
   "metadata": {},
   "outputs": [],
   "source": [
    "using RandomizedPreconditioners"
   ]
  },
  {
   "cell_type": "code",
   "execution_count": null,
   "metadata": {},
   "outputs": [],
   "source": [
    "buff = zeros(n)\n",
    "v = rand(n)\n",
    "ExchangeMarket.__update_php_hessop!(alg, f1)\n",
    "mul!(buff, alg.Hk.php_hessop, v)\n",
    "@info \"double check Hessian is correct\" norm(buff - (H + alg.μ * I) * v)"
   ]
  },
  {
   "cell_type": "code",
   "execution_count": null,
   "metadata": {},
   "outputs": [],
   "source": [
    "Â = NystromSketch(H, 100; n=f1.n)\n",
    "P = NystromPreconditionerInverse(Â, 1e-3)"
   ]
  },
  {
   "cell_type": "code",
   "execution_count": null,
   "metadata": {},
   "outputs": [],
   "source": [
    "# d, stats = cg(alg.H, alg.∇ .- alg.μ ./ alg.p; verbose=3, timemax=10.0)\n",
    "d, stats = cg(H, alg.p .* alg.∇ .- alg.μ; M=P, verbose=3, timemax=5.0)"
   ]
  },
  {
   "cell_type": "markdown",
   "metadata": {},
   "source": [
    "## Diagonal preconditioner"
   ]
  },
  {
   "cell_type": "code",
   "execution_count": null,
   "metadata": {},
   "outputs": [],
   "source": [
    "# τ = [1 / norm(H[:, i], 1) for i = 1:n]  # diagonal preconditioner\n",
    "τ = 1 ./ sum(H; dims=2)[:]  # diagonal preconditioner\n",
    "P⁻¹ = diagm(τ)\n",
    "d, stats = cg(H, alg.p .* alg.∇ .- alg.μ; M=P⁻¹, rtol=1e-15, verbose=3, timemax=5.0)"
   ]
  },
  {
   "cell_type": "code",
   "execution_count": null,
   "metadata": {},
   "outputs": [],
   "source": [
    "ExchangeMarket.__update_php_hessop!(alg, f1)\n",
    "a = rand(n)\n",
    "d, stats = cg(alg.Hk.php_hessop, alg.p .* alg.∇, a; verbose=3, timemax=10.0, history=true)\n",
    "τ = 1 ./ sum(H; dims=2)[:]  # diagonal preconditioner\n",
    "P⁺ = diagm(sqrt.(τ))\n",
    "d1, stats1 = cg(H, alg.p .* alg.∇ .- alg.μ, a; M=P⁻¹, rtol=1e-15, verbose=3, timemax=5.0, history=true)"
   ]
  },
  {
   "cell_type": "code",
   "execution_count": null,
   "metadata": {},
   "outputs": [],
   "source": [
    "fig = generate_empty(; shape=:wide)\n",
    "plot!(\n",
    "    fig,\n",
    "    ylabel=L\"$\\|\\mathbf{H}(\\mathbf{p}) + \\mu \\mathbf{I})\\mathbf{d} - \\mathbf{r}\\|$\",\n",
    "    title=L\"$\\rho := %$ρfmt~(\\sigma := %$σfmt)$\",\n",
    "    legendbackgroundcolor=RGBA(1.0, 1.0, 1.0, 0.8),\n",
    "    yticks=10.0 .^ (-16:4:3),\n",
    "    xtickfont=font(18),\n",
    "    ytickfont=font(18),\n",
    "    xscale=:identity,\n",
    "    size=(600, 400)\n",
    ")\n",
    "plot!(\n",
    "    fig,\n",
    "    xticks=[10, 50, 100, 200, 500]\n",
    ")\n",
    "\n",
    "plot!(fig, stats.residuals[1:4:end], label=L\"\\textrm{No precond.}\", linewidth=2, linestyle=:dash, markershape=:circle)\n",
    "plot!(fig, stats1.residuals, label=L\"\\textrm{Diagonal precond.}\", linewidth=2, linestyle=:dash, markershape=:circle)\n"
   ]
  },
  {
   "cell_type": "code",
   "execution_count": null,
   "metadata": {},
   "outputs": [],
   "source": [
    "savefig(fig, \"/tmp/fisher_linsys_precond.pdf\")"
   ]
  },
  {
   "cell_type": "code",
   "execution_count": null,
   "metadata": {},
   "outputs": [],
   "source": [
    "eigen(P⁺ * H * P⁺)"
   ]
  },
  {
   "cell_type": "code",
   "execution_count": null,
   "metadata": {},
   "outputs": [],
   "source": [
    "1.0000000000000009 / 0.09999999999999895"
   ]
  },
  {
   "cell_type": "code",
   "execution_count": null,
   "metadata": {},
   "outputs": [],
   "source": [
    "d1, stats1 = cg(H, linconstr.A', a; M=P⁻¹, rtol=1e-15, verbose=3, timemax=5.0, history=true)"
   ]
  }
 ],
 "metadata": {
  "kernelspec": {
   "display_name": "Julia 1.10.3",
   "language": "julia",
   "name": "julia-1.10"
  },
  "language_info": {
   "file_extension": ".jl",
   "mimetype": "application/julia",
   "name": "julia",
   "version": "1.10.3"
  }
 },
 "nbformat": 4,
 "nbformat_minor": 2
}
